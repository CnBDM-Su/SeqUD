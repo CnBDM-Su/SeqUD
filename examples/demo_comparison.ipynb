{
 "cells": [
  {
   "cell_type": "code",
   "execution_count": 1,
   "metadata": {
    "scrolled": true
   },
   "outputs": [],
   "source": [
    "%matplotlib inline\n",
    "\n",
    "import numpy as np\n",
    "import xgboost as xgb\n",
    "from sklearn import datasets\n",
    "from sklearn.metrics import auc \n",
    "from matplotlib import pylab as plt \n",
    "from sklearn.model_selection import KFold \n",
    "from sklearn.preprocessing import MinMaxScaler\n",
    "from sklearn.metrics import make_scorer, mean_squared_error\n",
    "from seqmml import SeqUD, SeqRand, GPEIOPT, SMACOPT, TPEOPT,\\\n",
    "                    RandSearch, LHSSearch, SobolSearch, UDSearch\n",
    "\n",
    "dt = datasets.load_wine()\n",
    "sx = MinMaxScaler()\n",
    "x = sx.fit_transform(dt.data)\n",
    "y = dt.target.reshape([-1,1])\n",
    "\n",
    "ParaSpace = {'booster':          {'Type': 'categorical', 'Mapping': ['gbtree', 'gblinear']},\n",
    "             'max_depth':        {'Type': 'integer',     'Mapping': np.linspace(2,10,9)}, \n",
    "             'n_estimators':     {'Type': 'integer',     'Mapping': np.linspace(100,300,201)},\n",
    "             'min_child_weight': {'Type': 'integer',     'Mapping': np.linspace(1,10,10)},\n",
    "             'subsample':        {'Type': 'continuous',  'Range': [0, 1],  'Wrapper': lambda x:x},\n",
    "             'colsample_bytree': {'Type': 'continuous',  'Range': [0, 1],  'Wrapper': lambda x:x},\n",
    "             'learning_rate':    {'Type': 'continuous',  'Range': [-5, 0], 'Wrapper': lambda x: 10**x},\n",
    "             'gamma':            {'Type': 'continuous',  'Range': [-5, 0], 'Wrapper': lambda x: 10**x},\n",
    "             'reg_lambda':       {'Type': 'continuous',  'Range': [-5, 0], 'Wrapper': lambda x: 10**x},\n",
    "             'reg_alpha':         {'Type': 'continuous',  'Range': [-5, 0], 'Wrapper': lambda x: 10**x}}\n",
    "\n",
    "estimator = xgb.XGBClassifier()\n",
    "cv = KFold(n_splits=3, random_state=0, shuffle=True)\n",
    "\n",
    "model_zoo = { \"Rand\": RandSearch, \n",
    "              \"LHS\": LHSSearch, \n",
    "              \"Sobol\": SobolSearch, \n",
    "              \"UD\": UDSearch, \n",
    "              \"SeqUD\": SeqUD, \n",
    "              \"SeqRand\": SeqRand,\n",
    "              \"SMAC\": SMACOPT, \n",
    "              \"TPE\": TPEOPT, \n",
    "              \"GPEI\": GPEIOPT}"
   ]
  },
  {
   "cell_type": "code",
   "execution_count": 2,
   "metadata": {},
   "outputs": [
    {
     "data": {
      "application/vnd.jupyter.widget-view+json": {
       "model_id": "3324a0f01b984c7294484a69d353af14",
       "version_major": 2,
       "version_minor": 0
      },
      "text/plain": [
       "HBox(children=(IntProgress(value=0), HTML(value='')))"
      ]
     },
     "metadata": {},
     "output_type": "display_data"
    },
    {
     "name": "stdout",
     "output_type": "stream",
     "text": [
      "\n",
      "Search completed (100/100) with best score: 0.98324.\n",
      "Search completed in 12.83 seconds.\n",
      "The best score is: 0.98324.\n",
      "The best configurations are:\n",
      "booster             : gbtree\n",
      "max_depth           : 2\n",
      "n_estimators        : 231\n",
      "min_child_weight    : 1\n",
      "subsample           : 0.77058\n",
      "colsample_bytree    : 0.01561\n",
      "learning_rate       : 3e-05\n",
      "gamma               : 0.00192\n",
      "reg_lambda          : 6e-05\n",
      "reg_alpha           : 0.00061\n"
     ]
    }
   ],
   "source": [
    "rand_clf = RandSearch(ParaSpace, max_runs = 100, n_jobs = 10, estimator = estimator, cv = cv, \n",
    "            scoring = \"accuracy\", refit = True, rand_seed = 0, verbose = True)\n",
    "rand_clf.fit(x, y)"
   ]
  },
  {
   "cell_type": "code",
   "execution_count": 3,
   "metadata": {},
   "outputs": [
    {
     "data": {
      "application/vnd.jupyter.widget-view+json": {
       "model_id": "fcf1e59632be44a1b3909e635f27f256",
       "version_major": 2,
       "version_minor": 0
      },
      "text/plain": [
       "HBox(children=(IntProgress(value=0), HTML(value='')))"
      ]
     },
     "metadata": {},
     "output_type": "display_data"
    },
    {
     "name": "stdout",
     "output_type": "stream",
     "text": [
      "\n",
      "Search completed (100/100) with best score: 0.98315.\n",
      "Search completed in 9.67 seconds.\n",
      "The best score is: 0.98315.\n",
      "The best configurations are:\n",
      "booster             : gbtree\n",
      "max_depth           : 2\n",
      "n_estimators        : 165\n",
      "min_child_weight    : 1\n",
      "subsample           : 0.315\n",
      "colsample_bytree    : 0.095\n",
      "learning_rate       : 0.18836\n",
      "gamma               : 0.00944\n",
      "reg_lambda          : 0.00033\n",
      "reg_alpha           : 1e-05\n"
     ]
    }
   ],
   "source": [
    "lhs_clf = LHSSearch(ParaSpace, max_runs = 100, n_jobs = 10, estimator = estimator, cv = cv, \n",
    "            scoring = \"accuracy\", refit = True, rand_seed = 0, verbose = True)\n",
    "lhs_clf.fit(x, y)"
   ]
  },
  {
   "cell_type": "code",
   "execution_count": 4,
   "metadata": {},
   "outputs": [
    {
     "data": {
      "application/vnd.jupyter.widget-view+json": {
       "model_id": "79725999fbce4336a29f327e0fb0ff6f",
       "version_major": 2,
       "version_minor": 0
      },
      "text/plain": [
       "HBox(children=(IntProgress(value=0), HTML(value='')))"
      ]
     },
     "metadata": {},
     "output_type": "display_data"
    },
    {
     "name": "stdout",
     "output_type": "stream",
     "text": [
      "\n",
      "Search completed (100/100) with best score: 0.98305.\n",
      "Search completed in 9.62 seconds.\n",
      "The best score is: 0.98305.\n",
      "The best configurations are:\n",
      "booster             : gbtree\n",
      "max_depth           : 6\n",
      "n_estimators        : 104\n",
      "min_child_weight    : 2\n",
      "subsample           : 0.89844\n",
      "colsample_bytree    : 0.30469\n",
      "learning_rate       : 0.00028\n",
      "gamma               : 0.00048\n",
      "reg_lambda          : 0.00048\n",
      "reg_alpha           : 6e-05\n"
     ]
    }
   ],
   "source": [
    "sobol_clf = SobolSearch(ParaSpace, max_runs = 100, n_jobs = 10, estimator = estimator, cv = cv, \n",
    "            scoring = \"accuracy\", refit = True, rand_seed = 0, verbose = True)\n",
    "sobol_clf.fit(x, y)"
   ]
  },
  {
   "cell_type": "code",
   "execution_count": 5,
   "metadata": {
    "scrolled": true
   },
   "outputs": [
    {
     "ename": "TypeError",
     "evalue": "design_query() got an unexpected keyword argument 'ShowCrit'",
     "output_type": "error",
     "traceback": [
      "\u001b[0;31m---------------------------------------------------------------------------\u001b[0m",
      "\u001b[0;31mTypeError\u001b[0m                                 Traceback (most recent call last)",
      "\u001b[0;32m<ipython-input-5-62939598e0a9>\u001b[0m in \u001b[0;36m<module>\u001b[0;34m\u001b[0m\n\u001b[1;32m      1\u001b[0m ud_clf = UDSearch(ParaSpace, max_runs = 100, level_number = 20, n_jobs = 10, estimator = estimator, cv = cv, \n\u001b[1;32m      2\u001b[0m             scoring = \"accuracy\", refit = True, rand_seed = 0, verbose = True)\n\u001b[0;32m----> 3\u001b[0;31m \u001b[0mud_clf\u001b[0m\u001b[0;34m.\u001b[0m\u001b[0mfit\u001b[0m\u001b[0;34m(\u001b[0m\u001b[0mx\u001b[0m\u001b[0;34m,\u001b[0m \u001b[0my\u001b[0m\u001b[0;34m)\u001b[0m\u001b[0;34m\u001b[0m\u001b[0;34m\u001b[0m\u001b[0m\n\u001b[0m",
      "\u001b[0;32m~/anaconda2_local/lib/python3.7/site-packages/seqmml/pybatdoe/batch_base.py\u001b[0m in \u001b[0;36mfit\u001b[0;34m(self, x, y)\u001b[0m\n\u001b[1;32m    158\u001b[0m         \u001b[0mnp\u001b[0m\u001b[0;34m.\u001b[0m\u001b[0mrandom\u001b[0m\u001b[0;34m.\u001b[0m\u001b[0mseed\u001b[0m\u001b[0;34m(\u001b[0m\u001b[0mself\u001b[0m\u001b[0;34m.\u001b[0m\u001b[0mrand_seed\u001b[0m\u001b[0;34m)\u001b[0m\u001b[0;34m\u001b[0m\u001b[0;34m\u001b[0m\u001b[0m\n\u001b[1;32m    159\u001b[0m         \u001b[0msearch_start_time\u001b[0m \u001b[0;34m=\u001b[0m \u001b[0mtime\u001b[0m\u001b[0;34m.\u001b[0m\u001b[0mtime\u001b[0m\u001b[0;34m(\u001b[0m\u001b[0;34m)\u001b[0m\u001b[0;34m\u001b[0m\u001b[0;34m\u001b[0m\u001b[0m\n\u001b[0;32m--> 160\u001b[0;31m         \u001b[0mself\u001b[0m\u001b[0;34m.\u001b[0m\u001b[0m_run\u001b[0m\u001b[0;34m(\u001b[0m\u001b[0msklearn_wrapper\u001b[0m\u001b[0;34m)\u001b[0m\u001b[0;34m\u001b[0m\u001b[0;34m\u001b[0m\u001b[0m\n\u001b[0m\u001b[1;32m    161\u001b[0m         \u001b[0msearch_end_time\u001b[0m \u001b[0;34m=\u001b[0m \u001b[0mtime\u001b[0m\u001b[0;34m.\u001b[0m\u001b[0mtime\u001b[0m\u001b[0;34m(\u001b[0m\u001b[0;34m)\u001b[0m\u001b[0;34m\u001b[0m\u001b[0;34m\u001b[0m\u001b[0m\n\u001b[1;32m    162\u001b[0m         \u001b[0mself\u001b[0m\u001b[0;34m.\u001b[0m\u001b[0msearch_time_consumed_\u001b[0m \u001b[0;34m=\u001b[0m \u001b[0msearch_end_time\u001b[0m \u001b[0;34m-\u001b[0m \u001b[0msearch_start_time\u001b[0m\u001b[0;34m\u001b[0m\u001b[0;34m\u001b[0m\u001b[0m\n",
      "\u001b[0;32m~/anaconda2_local/lib/python3.7/site-packages/seqmml/pybatdoe/batch_ud.py\u001b[0m in \u001b[0;36m_run\u001b[0;34m(self, obj_func)\u001b[0m\n\u001b[1;32m    146\u001b[0m \u001b[0;34m\u001b[0m\u001b[0m\n\u001b[1;32m    147\u001b[0m         \"\"\"     \n\u001b[0;32m--> 148\u001b[0;31m         \u001b[0mpara_set_ud\u001b[0m \u001b[0;34m=\u001b[0m \u001b[0mself\u001b[0m\u001b[0;34m.\u001b[0m\u001b[0m_generate_init_design\u001b[0m\u001b[0;34m(\u001b[0m\u001b[0;34m)\u001b[0m\u001b[0;34m\u001b[0m\u001b[0;34m\u001b[0m\u001b[0m\n\u001b[0m\u001b[1;32m    149\u001b[0m         \u001b[0mpara_set\u001b[0m \u001b[0;34m=\u001b[0m \u001b[0mself\u001b[0m\u001b[0;34m.\u001b[0m\u001b[0m_para_mapping\u001b[0m\u001b[0;34m(\u001b[0m\u001b[0mpara_set_ud\u001b[0m\u001b[0;34m)\u001b[0m\u001b[0;34m\u001b[0m\u001b[0;34m\u001b[0m\u001b[0m\n\u001b[1;32m    150\u001b[0m         \u001b[0mpara_set_ud\u001b[0m\u001b[0;34m.\u001b[0m\u001b[0mcolumns\u001b[0m \u001b[0;34m=\u001b[0m \u001b[0mself\u001b[0m\u001b[0;34m.\u001b[0m\u001b[0mpara_ud_names\u001b[0m\u001b[0;34m\u001b[0m\u001b[0;34m\u001b[0m\u001b[0m\n",
      "\u001b[0;32m~/anaconda2_local/lib/python3.7/site-packages/seqmml/pybatdoe/batch_ud.py\u001b[0m in \u001b[0;36m_generate_init_design\u001b[0;34m(self)\u001b[0m\n\u001b[1;32m    124\u001b[0m \u001b[0;34m\u001b[0m\u001b[0m\n\u001b[1;32m    125\u001b[0m         base_ud = pydoe.design_query(n = self.max_runs, s = self.extend_factor_number,\n\u001b[0;32m--> 126\u001b[0;31m                           q = self.level_number, crit = \"CD2\", ShowCrit=False)\n\u001b[0m\u001b[1;32m    127\u001b[0m         \u001b[0;32mif\u001b[0m \u001b[0mbase_ud\u001b[0m \u001b[0;32mis\u001b[0m \u001b[0;32mNone\u001b[0m\u001b[0;34m:\u001b[0m\u001b[0;34m\u001b[0m\u001b[0;34m\u001b[0m\u001b[0m\n\u001b[1;32m    128\u001b[0m             base_ud = pydoe.gen_ud_ms(n = self.max_runs, s = self.extend_factor_number, q = self.level_number, crit=\"CD2\", \n",
      "\u001b[0;31mTypeError\u001b[0m: design_query() got an unexpected keyword argument 'ShowCrit'"
     ]
    }
   ],
   "source": [
    "ud_clf = UDSearch(ParaSpace, max_runs = 100, level_number = 20, n_jobs = 10, estimator = estimator, cv = cv, \n",
    "            scoring = \"accuracy\", refit = True, rand_seed = 0, verbose = True)\n",
    "ud_clf.fit(x, y)"
   ]
  },
  {
   "cell_type": "code",
   "execution_count": null,
   "metadata": {},
   "outputs": [],
   "source": [
    "sequd_clf = SeqUD(ParaSpace, max_runs = 100, level_number = 20, n_jobs = 10, estimator = estimator, cv = cv, \n",
    "            scoring = \"accuracy\", refit = True, rand_seed = 0, verbose = True)\n",
    "sequd_clf.fit(x, y)"
   ]
  },
  {
   "cell_type": "code",
   "execution_count": null,
   "metadata": {},
   "outputs": [],
   "source": [
    "seqrand_clf = SeqRand(ParaSpace, max_runs = 100, estimator = estimator, cv = cv, \n",
    "            scoring = \"accuracy\", refit = True, rand_seed = 0, verbose = True)\n",
    "seqrand_clf.fit(x, y)"
   ]
  },
  {
   "cell_type": "code",
   "execution_count": null,
   "metadata": {},
   "outputs": [],
   "source": [
    "gpei_clf = GPEIOPT(ParaSpace, max_runs = 100, estimator = estimator, cv = cv, \n",
    "            scoring = \"accuracy\", refit = True, rand_seed = 0, verbose = True)\n",
    "gpei_clf.fit(x, y)"
   ]
  },
  {
   "cell_type": "code",
   "execution_count": null,
   "metadata": {},
   "outputs": [],
   "source": [
    "smac_clf = SMACOPT(ParaSpace, max_runs = 100, estimator = estimator, cv = cv, \n",
    "            scoring = \"accuracy\", refit = True, rand_seed = 0, verbose = True)\n",
    "smac_clf.fit(x, y)"
   ]
  },
  {
   "cell_type": "code",
   "execution_count": null,
   "metadata": {},
   "outputs": [],
   "source": [
    "tpe_clf = TPEOPT(ParaSpace, max_runs = 100, estimator = estimator, cv = cv, \n",
    "            scoring = \"accuracy\", refit = True, rand_seed = 0, verbose = True)\n",
    "tpe_clf.fit(x, y)"
   ]
  },
  {
   "cell_type": "code",
   "execution_count": null,
   "metadata": {},
   "outputs": [],
   "source": [
    "plt.plot(rand_clf.logs[\"score\"].cummax()) \n",
    "plt.plot(lhs_clf.logs[\"score\"].cummax()) \n",
    "plt.plot(sobol_clf.logs[\"score\"].cummax()) \n",
    "plt.plot(ud_clf.logs[\"score\"].cummax()) \n",
    "plt.plot(sequd_clf.logs[\"score\"].cummax()) \n",
    "plt.plot(seqrand_clf.logs[\"score\"].cummax()) \n",
    "plt.plot(gpei_clf.logs[\"score\"].cummax()) \n",
    "plt.plot(smac_clf.logs[\"score\"].cummax()) \n",
    "plt.plot(tpe_clf.logs[\"score\"].cummax()) \n",
    "plt.legend(model_zoo.keys())"
   ]
  }
 ],
 "metadata": {
  "kernelspec": {
   "display_name": "Python 3",
   "language": "python",
   "name": "python3"
  },
  "language_info": {
   "codemirror_mode": {
    "name": "ipython",
    "version": 3
   },
   "file_extension": ".py",
   "mimetype": "text/x-python",
   "name": "python",
   "nbconvert_exporter": "python",
   "pygments_lexer": "ipython3",
   "version": "3.7.3"
  }
 },
 "nbformat": 4,
 "nbformat_minor": 2
}
