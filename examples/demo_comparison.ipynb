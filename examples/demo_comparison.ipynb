{
 "cells": [
  {
   "cell_type": "code",
   "execution_count": 1,
   "metadata": {
    "scrolled": true
   },
   "outputs": [],
   "source": [
    "%matplotlib inline\n",
    "\n",
    "import numpy as np\n",
    "import xgboost as xgb\n",
    "from sklearn import datasets\n",
    "from sklearn.metrics import auc \n",
    "from matplotlib import pylab as plt \n",
    "from sklearn.model_selection import KFold \n",
    "from sklearn.preprocessing import MinMaxScaler\n",
    "from sklearn.metrics import make_scorer, mean_squared_error\n",
    "from seqmml import SeqUD, SeqRand, GPEIOPT, SMACOPT, TPEOPT,\\\n",
    "                    RandSearch, LHSSearch, SobolSearch, UDSearch\n",
    "\n",
    "dt = datasets.load_wine()\n",
    "sx = MinMaxScaler()\n",
    "x = sx.fit_transform(dt.data)\n",
    "y = dt.target.reshape([-1,1])\n",
    "\n",
    "ParaSpace = {'booster':          {'Type': 'categorical', 'Mapping': ['gbtree', 'gblinear']},\n",
    "             'max_depth':        {'Type': 'integer',     'Mapping': np.linspace(2,10,9)}, \n",
    "             'n_estimators':     {'Type': 'integer',     'Mapping': np.linspace(100,300,201)},\n",
    "             'min_child_weight': {'Type': 'integer',     'Mapping': np.linspace(1,10,10)},\n",
    "             'subsample':        {'Type': 'continuous',  'Range': [0, 1],  'Wrapper': lambda x:x},\n",
    "             'colsample_bytree': {'Type': 'continuous',  'Range': [0, 1],  'Wrapper': lambda x:x},\n",
    "             'learning_rate':    {'Type': 'continuous',  'Range': [-5, 0], 'Wrapper': lambda x: 10**x},\n",
    "             'gamma':            {'Type': 'continuous',  'Range': [-5, 0], 'Wrapper': lambda x: 10**x},\n",
    "             'reg_lambda':       {'Type': 'continuous',  'Range': [-5, 0], 'Wrapper': lambda x: 10**x},\n",
    "             'reg_alpha':         {'Type': 'continuous',  'Range': [-5, 0], 'Wrapper': lambda x: 10**x}}\n",
    "\n",
    "estimator = xgb.XGBClassifier()\n",
    "cv = KFold(n_splits=3, random_state=0, shuffle=True)\n",
    "\n",
    "model_zoo = { \"Rand\": RandSearch, \n",
    "              \"LHS\": LHSSearch, \n",
    "              \"Sobol\": SobolSearch, \n",
    "              \"UD\": UDSearch, \n",
    "              \"SeqUD\": SeqUD, \n",
    "              \"SeqRand\": SeqRand,\n",
    "              \"SMAC\": SMACOPT, \n",
    "              \"TPE\": TPEOPT, \n",
    "              \"GPEI\": GPEIOPT}"
   ]
  },
  {
   "cell_type": "code",
   "execution_count": 2,
   "metadata": {},
   "outputs": [
    {
     "data": {
      "application/vnd.jupyter.widget-view+json": {
       "model_id": "5519111f93d54197945646c09c699b72",
       "version_major": 2,
       "version_minor": 0
      },
      "text/plain": [
       "HBox(children=(IntProgress(value=0), HTML(value='')))"
      ]
     },
     "metadata": {},
     "output_type": "display_data"
    },
    {
     "name": "stdout",
     "output_type": "stream",
     "text": [
      "\n",
      "Search completed (100/100) with best score: 0.98324.\n",
      "Search completed in 13.50 seconds.\n",
      "The best score is: 0.98324.\n",
      "The best configurations are:\n",
      "booster             : gbtree\n",
      "max_depth           : 2\n",
      "n_estimators        : 231\n",
      "min_child_weight    : 1\n",
      "subsample           : 0.77058\n",
      "colsample_bytree    : 0.01561\n",
      "learning_rate       : 3e-05\n",
      "gamma               : 0.00192\n",
      "reg_lambda          : 6e-05\n",
      "reg_alpha           : 0.00061\n"
     ]
    }
   ],
   "source": [
    "rand_clf = RandSearch(ParaSpace, max_runs = 100, n_jobs = 10, estimator = estimator, cv = cv, \n",
    "            scoring = \"accuracy\", refit = True, rand_seed = 0, verbose = True)\n",
    "rand_clf.fit(x, y)"
   ]
  },
  {
   "cell_type": "code",
   "execution_count": 3,
   "metadata": {},
   "outputs": [
    {
     "data": {
      "application/vnd.jupyter.widget-view+json": {
       "model_id": "81a3c1a931544a7085d8c19ebf5b041b",
       "version_major": 2,
       "version_minor": 0
      },
      "text/plain": [
       "HBox(children=(IntProgress(value=0), HTML(value='')))"
      ]
     },
     "metadata": {},
     "output_type": "display_data"
    },
    {
     "name": "stdout",
     "output_type": "stream",
     "text": [
      "\n",
      "Search completed (100/100) with best score: 0.98315.\n",
      "Search completed in 9.77 seconds.\n",
      "The best score is: 0.98315.\n",
      "The best configurations are:\n",
      "booster             : gbtree\n",
      "max_depth           : 2\n",
      "n_estimators        : 165\n",
      "min_child_weight    : 1\n",
      "subsample           : 0.315\n",
      "colsample_bytree    : 0.095\n",
      "learning_rate       : 0.18836\n",
      "gamma               : 0.00944\n",
      "reg_lambda          : 0.00033\n",
      "reg_alpha           : 1e-05\n"
     ]
    }
   ],
   "source": [
    "lhs_clf = LHSSearch(ParaSpace, max_runs = 100, n_jobs = 10, estimator = estimator, cv = cv, \n",
    "            scoring = \"accuracy\", refit = True, rand_seed = 0, verbose = True)\n",
    "lhs_clf.fit(x, y)"
   ]
  },
  {
   "cell_type": "code",
   "execution_count": null,
   "metadata": {},
   "outputs": [
    {
     "data": {
      "application/vnd.jupyter.widget-view+json": {
       "model_id": "16122155fc45496ea6996f9916a1f7d1",
       "version_major": 2,
       "version_minor": 0
      },
      "text/plain": [
       "HBox(children=(IntProgress(value=0), HTML(value='')))"
      ]
     },
     "metadata": {},
     "output_type": "display_data"
    },
    {
     "name": "stdout",
     "output_type": "stream",
     "text": [
      "\n",
      "Search completed (100/100) with best score: 0.98305.\n",
      "Search completed in 9.59 seconds.\n",
      "The best score is: 0.98305.\n",
      "The best configurations are:\n",
      "booster             : gbtree\n",
      "max_depth           : 6\n",
      "n_estimators        : 104\n",
      "min_child_weight    : 2\n",
      "subsample           : 0.89844\n",
      "colsample_bytree    : 0.30469\n",
      "learning_rate       : 0.00028\n",
      "gamma               : 0.00048\n",
      "reg_lambda          : 0.00048\n",
      "reg_alpha           : 6e-05\n"
     ]
    }
   ],
   "source": [
    "sobol_clf = SobolSearch(ParaSpace, max_runs = 100, n_jobs = 10, estimator = estimator, cv = cv, \n",
    "            scoring = \"accuracy\", refit = True, rand_seed = 0, verbose = True)\n",
    "sobol_clf.fit(x, y)"
   ]
  },
  {
   "cell_type": "code",
   "execution_count": null,
   "metadata": {
    "scrolled": true
   },
   "outputs": [],
   "source": [
    "ud_clf = UDSearch(ParaSpace, max_runs = 100, level_number = 20, n_jobs = 10, estimator = estimator, cv = cv, \n",
    "            scoring = \"accuracy\", refit = True, rand_seed = 0, verbose = True)\n",
    "ud_clf.fit(x, y)"
   ]
  },
  {
   "cell_type": "code",
   "execution_count": null,
   "metadata": {},
   "outputs": [],
   "source": [
    "sequd_clf = SeqUD(ParaSpace, max_runs = 100, level_number = 20, n_jobs = 10, estimator = estimator, cv = cv, \n",
    "            scoring = \"accuracy\", refit = True, rand_seed = 0, verbose = True)\n",
    "sequd_clf.fit(x, y)"
   ]
  },
  {
   "cell_type": "code",
   "execution_count": null,
   "metadata": {},
   "outputs": [],
   "source": [
    "seqrand_clf = SeqRand(ParaSpace, max_runs = 100, estimator = estimator, cv = cv, \n",
    "            scoring = \"accuracy\", refit = True, rand_seed = 0, verbose = True)\n",
    "seqrand_clf.fit(x, y)"
   ]
  },
  {
   "cell_type": "code",
   "execution_count": null,
   "metadata": {},
   "outputs": [],
   "source": [
    "gpei_clf = GPEIOPT(ParaSpace, max_runs = 100, estimator = estimator, cv = cv, \n",
    "            scoring = \"accuracy\", refit = True, rand_seed = 0, verbose = True)\n",
    "gpei_clf.fit(x, y)"
   ]
  },
  {
   "cell_type": "code",
   "execution_count": null,
   "metadata": {},
   "outputs": [],
   "source": [
    "smac_clf = SMACOPT(ParaSpace, max_runs = 100, estimator = estimator, cv = cv, \n",
    "            scoring = \"accuracy\", refit = True, rand_seed = 0, verbose = True)\n",
    "smac_clf.fit(x, y)"
   ]
  },
  {
   "cell_type": "code",
   "execution_count": null,
   "metadata": {},
   "outputs": [],
   "source": [
    "tpe_clf = TPEOPT(ParaSpace, max_runs = 100, estimator = estimator, cv = cv, \n",
    "            scoring = \"accuracy\", refit = True, rand_seed = 0, verbose = True)\n",
    "tpe_clf.fit(x, y)"
   ]
  },
  {
   "cell_type": "code",
   "execution_count": null,
   "metadata": {},
   "outputs": [],
   "source": [
    "plt.plot(rand_clf.logs[\"score\"].cummax()) \n",
    "plt.plot(lhs_clf.logs[\"score\"].cummax()) \n",
    "plt.plot(sobol_clf.logs[\"score\"].cummax()) \n",
    "plt.plot(ud_clf.logs[\"score\"].cummax()) \n",
    "plt.plot(sequd_clf.logs[\"score\"].cummax()) \n",
    "plt.plot(seqrand_clf.logs[\"score\"].cummax()) \n",
    "plt.plot(gpei_clf.logs[\"score\"].cummax()) \n",
    "plt.plot(smac_clf.logs[\"score\"].cummax()) \n",
    "plt.plot(tpe_clf.logs[\"score\"].cummax()) \n",
    "plt.legend(model_zoo.keys())"
   ]
  }
 ],
 "metadata": {
  "kernelspec": {
   "display_name": "Python 3",
   "language": "python",
   "name": "python3"
  },
  "language_info": {
   "codemirror_mode": {
    "name": "ipython",
    "version": 3
   },
   "file_extension": ".py",
   "mimetype": "text/x-python",
   "name": "python",
   "nbconvert_exporter": "python",
   "pygments_lexer": "ipython3",
   "version": "3.7.3"
  }
 },
 "nbformat": 4,
 "nbformat_minor": 2
}
