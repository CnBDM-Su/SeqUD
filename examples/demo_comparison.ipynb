{
 "cells": [
  {
   "cell_type": "code",
   "execution_count": 1,
   "metadata": {
    "scrolled": true
   },
   "outputs": [
    {
     "ename": "ModuleNotFoundError",
     "evalue": "No module named 'pyUniDOE'",
     "output_type": "error",
     "traceback": [
      "\u001b[0;31m---------------------------------------------------------------------------\u001b[0m",
      "\u001b[0;31mModuleNotFoundError\u001b[0m                       Traceback (most recent call last)",
      "\u001b[0;32m<ipython-input-1-0ada7d1a869e>\u001b[0m in \u001b[0;36m<module>\u001b[0;34m\u001b[0m\n\u001b[1;32m      9\u001b[0m \u001b[0;32mfrom\u001b[0m \u001b[0msklearn\u001b[0m\u001b[0;34m.\u001b[0m\u001b[0mpreprocessing\u001b[0m \u001b[0;32mimport\u001b[0m \u001b[0mMinMaxScaler\u001b[0m\u001b[0;34m\u001b[0m\u001b[0;34m\u001b[0m\u001b[0m\n\u001b[1;32m     10\u001b[0m \u001b[0;32mfrom\u001b[0m \u001b[0msklearn\u001b[0m\u001b[0;34m.\u001b[0m\u001b[0mmetrics\u001b[0m \u001b[0;32mimport\u001b[0m \u001b[0mmake_scorer\u001b[0m\u001b[0;34m,\u001b[0m \u001b[0mmean_squared_error\u001b[0m\u001b[0;34m\u001b[0m\u001b[0;34m\u001b[0m\u001b[0m\n\u001b[0;32m---> 11\u001b[0;31m \u001b[0;32mfrom\u001b[0m \u001b[0mseqmml\u001b[0m \u001b[0;32mimport\u001b[0m \u001b[0mSeqUD\u001b[0m\u001b[0;34m,\u001b[0m \u001b[0mSeqRand\u001b[0m\u001b[0;34m,\u001b[0m \u001b[0mGPEIOPT\u001b[0m\u001b[0;34m,\u001b[0m \u001b[0mSMACOPT\u001b[0m\u001b[0;34m,\u001b[0m \u001b[0mTPEOPT\u001b[0m\u001b[0;34m,\u001b[0m\u001b[0;31m\\\u001b[0m\u001b[0;34m\u001b[0m\u001b[0;34m\u001b[0m\u001b[0m\n\u001b[0m\u001b[1;32m     12\u001b[0m                     \u001b[0mRandSearch\u001b[0m\u001b[0;34m,\u001b[0m \u001b[0mLHSSearch\u001b[0m\u001b[0;34m,\u001b[0m \u001b[0mSobolSearch\u001b[0m\u001b[0;34m,\u001b[0m \u001b[0mUDSearch\u001b[0m\u001b[0;34m\u001b[0m\u001b[0;34m\u001b[0m\u001b[0m\n\u001b[1;32m     13\u001b[0m \u001b[0;34m\u001b[0m\u001b[0m\n",
      "\u001b[0;32m~/anaconda2_local/lib/python3.7/site-packages/seqmml/__init__.py\u001b[0m in \u001b[0;36m<module>\u001b[0;34m\u001b[0m\n\u001b[1;32m      1\u001b[0m \u001b[0;32mfrom\u001b[0m \u001b[0;34m.\u001b[0m\u001b[0mpysequd\u001b[0m \u001b[0;32mimport\u001b[0m \u001b[0;34m*\u001b[0m\u001b[0;34m\u001b[0m\u001b[0;34m\u001b[0m\u001b[0m\n\u001b[1;32m      2\u001b[0m \u001b[0;32mfrom\u001b[0m \u001b[0;34m.\u001b[0m\u001b[0mpybayopt\u001b[0m \u001b[0;32mimport\u001b[0m \u001b[0;34m*\u001b[0m\u001b[0;34m\u001b[0m\u001b[0;34m\u001b[0m\u001b[0m\n\u001b[0;32m----> 3\u001b[0;31m \u001b[0;32mfrom\u001b[0m \u001b[0;34m.\u001b[0m\u001b[0mpybatdoe\u001b[0m \u001b[0;32mimport\u001b[0m \u001b[0;34m*\u001b[0m\u001b[0;34m\u001b[0m\u001b[0;34m\u001b[0m\u001b[0m\n\u001b[0m\u001b[1;32m      4\u001b[0m \u001b[0;34m\u001b[0m\u001b[0m\n\u001b[1;32m      5\u001b[0m __all__ =  [\"SeqUD\", \"GPEIOPT\", \"SMACOPT\", \"TPEOPT\", \"SeqRand\",\n",
      "\u001b[0;32m~/anaconda2_local/lib/python3.7/site-packages/seqmml/pybatdoe/__init__.py\u001b[0m in \u001b[0;36m<module>\u001b[0;34m\u001b[0m\n\u001b[1;32m      3\u001b[0m \u001b[0;32mfrom\u001b[0m \u001b[0;34m.\u001b[0m\u001b[0mbatch_lhs\u001b[0m \u001b[0;32mimport\u001b[0m \u001b[0mLHSSearch\u001b[0m\u001b[0;34m\u001b[0m\u001b[0;34m\u001b[0m\u001b[0m\n\u001b[1;32m      4\u001b[0m \u001b[0;32mfrom\u001b[0m \u001b[0;34m.\u001b[0m\u001b[0mbatch_sobol\u001b[0m \u001b[0;32mimport\u001b[0m \u001b[0mSobolSearch\u001b[0m\u001b[0;34m\u001b[0m\u001b[0;34m\u001b[0m\u001b[0m\n\u001b[0;32m----> 5\u001b[0;31m \u001b[0;32mfrom\u001b[0m \u001b[0;34m.\u001b[0m\u001b[0mbatch_ud\u001b[0m \u001b[0;32mimport\u001b[0m \u001b[0mUDSearch\u001b[0m\u001b[0;34m\u001b[0m\u001b[0;34m\u001b[0m\u001b[0m\n\u001b[0m\u001b[1;32m      6\u001b[0m \u001b[0;34m\u001b[0m\u001b[0m\n\u001b[1;32m      7\u001b[0m \u001b[0m__all__\u001b[0m \u001b[0;34m=\u001b[0m  \u001b[0;34m[\u001b[0m\u001b[0;34m\"GridSearch\"\u001b[0m\u001b[0;34m,\u001b[0m \u001b[0;34m\"RandSearch\"\u001b[0m\u001b[0;34m,\u001b[0m \u001b[0;34m\"LHSSearch\"\u001b[0m\u001b[0;34m,\u001b[0m \u001b[0;34m\"SobolSearch\"\u001b[0m\u001b[0;34m,\u001b[0m \u001b[0;34m\"UDSearch\"\u001b[0m\u001b[0;34m]\u001b[0m\u001b[0;34m\u001b[0m\u001b[0;34m\u001b[0m\u001b[0m\n",
      "\u001b[0;32m~/anaconda2_local/lib/python3.7/site-packages/seqmml/pybatdoe/batch_ud.py\u001b[0m in \u001b[0;36m<module>\u001b[0;34m\u001b[0m\n\u001b[1;32m     13\u001b[0m \u001b[0;32mfrom\u001b[0m \u001b[0msklearn\u001b[0m\u001b[0;34m.\u001b[0m\u001b[0mmodel_selection\u001b[0m \u001b[0;32mimport\u001b[0m \u001b[0mcross_val_score\u001b[0m\u001b[0;34m\u001b[0m\u001b[0;34m\u001b[0m\u001b[0m\n\u001b[1;32m     14\u001b[0m \u001b[0;34m\u001b[0m\u001b[0m\n\u001b[0;32m---> 15\u001b[0;31m \u001b[0;32mimport\u001b[0m \u001b[0mpyUniDOE\u001b[0m \u001b[0;32mas\u001b[0m \u001b[0mpydoe\u001b[0m\u001b[0;34m\u001b[0m\u001b[0;34m\u001b[0m\u001b[0m\n\u001b[0m\u001b[1;32m     16\u001b[0m \u001b[0;32mfrom\u001b[0m \u001b[0;34m.\u001b[0m\u001b[0mbatch_base\u001b[0m \u001b[0;32mimport\u001b[0m \u001b[0mBatchBase\u001b[0m\u001b[0;34m\u001b[0m\u001b[0;34m\u001b[0m\u001b[0m\n\u001b[1;32m     17\u001b[0m \u001b[0;34m\u001b[0m\u001b[0m\n",
      "\u001b[0;31mModuleNotFoundError\u001b[0m: No module named 'pyUniDOE'"
     ]
    }
   ],
   "source": [
    "%matplotlib inline\n",
    "\n",
    "import numpy as np\n",
    "import xgboost as xgb\n",
    "from sklearn import datasets\n",
    "from sklearn.metrics import auc \n",
    "from matplotlib import pylab as plt \n",
    "from sklearn.model_selection import KFold \n",
    "from sklearn.preprocessing import MinMaxScaler\n",
    "from sklearn.metrics import make_scorer, mean_squared_error\n",
    "from seqmml import SeqUD, SeqRand, GPEIOPT, SMACOPT, TPEOPT,\\\n",
    "                    RandSearch, LHSSearch, SobolSearch, UDSearch\n",
    "\n",
    "dt = datasets.load_wine()\n",
    "sx = MinMaxScaler()\n",
    "x = sx.fit_transform(dt.data)\n",
    "y = dt.target.reshape([-1,1])\n",
    "\n",
    "ParaSpace = {'booster':          {'Type': 'categorical', 'Mapping': ['gbtree', 'gblinear']},\n",
    "             'max_depth':        {'Type': 'integer',     'Mapping': np.linspace(2,10,9)}, \n",
    "             'n_estimators':     {'Type': 'integer',     'Mapping': np.linspace(100,300,201)},\n",
    "             'min_child_weight': {'Type': 'integer',     'Mapping': np.linspace(1,10,10)},\n",
    "             'subsample':        {'Type': 'continuous',  'Range': [0, 1],  'Wrapper': lambda x:x},\n",
    "             'colsample_bytree': {'Type': 'continuous',  'Range': [0, 1],  'Wrapper': lambda x:x},\n",
    "             'learning_rate':    {'Type': 'continuous',  'Range': [-5, 0], 'Wrapper': lambda x: 10**x},\n",
    "             'gamma':            {'Type': 'continuous',  'Range': [-5, 0], 'Wrapper': lambda x: 10**x},\n",
    "             'reg_lambda':       {'Type': 'continuous',  'Range': [-5, 0], 'Wrapper': lambda x: 10**x},\n",
    "             'reg_alpha':         {'Type': 'continuous',  'Range': [-5, 0], 'Wrapper': lambda x: 10**x}}\n",
    "\n",
    "estimator = xgb.XGBClassifier()\n",
    "cv = KFold(n_splits=3, random_state=0, shuffle=True)\n",
    "\n",
    "model_zoo = { \"Rand\": RandSearch, \n",
    "              \"LHS\": LHSSearch, \n",
    "              \"Sobol\": SobolSearch, \n",
    "              \"UD\": UDSearch, \n",
    "              \"SeqUD\": SeqUD, \n",
    "              \"SeqRand\": SeqRand,\n",
    "              \"SMAC\": SMACOPT, \n",
    "              \"TPE\": TPEOPT, \n",
    "              \"GPEI\": GPEIOPT}"
   ]
  },
  {
   "cell_type": "code",
   "execution_count": null,
   "metadata": {},
   "outputs": [],
   "source": [
    "rand_clf = RandSearch(ParaSpace, max_runs = 100, n_jobs = 10, estimator = estimator, cv = cv, \n",
    "            scoring = \"accuracy\", refit = True, rand_seed = 0, verbose = True)\n",
    "rand_clf.fit(x, y)"
   ]
  },
  {
   "cell_type": "code",
   "execution_count": null,
   "metadata": {},
   "outputs": [],
   "source": [
    "lhs_clf = LHSSearch(ParaSpace, max_runs = 100, n_jobs = 10, estimator = estimator, cv = cv, \n",
    "            scoring = \"accuracy\", refit = True, rand_seed = 0, verbose = True)\n",
    "lhs_clf.fit(x, y)"
   ]
  },
  {
   "cell_type": "code",
   "execution_count": null,
   "metadata": {},
   "outputs": [],
   "source": [
    "sobol_clf = SobolSearch(ParaSpace, max_runs = 100, n_jobs = 10, estimator = estimator, cv = cv, \n",
    "            scoring = \"accuracy\", refit = True, rand_seed = 0, verbose = True)\n",
    "sobol_clf.fit(x, y)"
   ]
  },
  {
   "cell_type": "code",
   "execution_count": null,
   "metadata": {
    "scrolled": true
   },
   "outputs": [],
   "source": [
    "ud_clf = UDSearch(ParaSpace, max_runs = 100, level_number = 20, n_jobs = 10, estimator = estimator, cv = cv, \n",
    "            scoring = \"accuracy\", refit = True, rand_seed = 0, verbose = True)\n",
    "ud_clf.fit(x, y)"
   ]
  },
  {
   "cell_type": "code",
   "execution_count": null,
   "metadata": {},
   "outputs": [],
   "source": [
    "sequd_clf = SeqUD(ParaSpace, max_runs = 100, level_number = 20, n_jobs = 10, estimator = estimator, cv = cv, \n",
    "            scoring = \"accuracy\", refit = True, rand_seed = 0, verbose = True)\n",
    "sequd_clf.fit(x, y)"
   ]
  },
  {
   "cell_type": "code",
   "execution_count": null,
   "metadata": {},
   "outputs": [],
   "source": [
    "seqrand_clf = SeqRand(ParaSpace, max_runs = 100, estimator = estimator, cv = cv, \n",
    "            scoring = \"accuracy\", refit = True, rand_seed = 0, verbose = True)\n",
    "seqrand_clf.fit(x, y)"
   ]
  },
  {
   "cell_type": "code",
   "execution_count": null,
   "metadata": {},
   "outputs": [],
   "source": [
    "gpei_clf = GPEIOPT(ParaSpace, max_runs = 100, estimator = estimator, cv = cv, \n",
    "            scoring = \"accuracy\", refit = True, rand_seed = 0, verbose = True)\n",
    "gpei_clf.fit(x, y)"
   ]
  },
  {
   "cell_type": "code",
   "execution_count": null,
   "metadata": {},
   "outputs": [],
   "source": [
    "smac_clf = SMACOPT(ParaSpace, max_runs = 100, estimator = estimator, cv = cv, \n",
    "            scoring = \"accuracy\", refit = True, rand_seed = 0, verbose = True)\n",
    "smac_clf.fit(x, y)"
   ]
  },
  {
   "cell_type": "code",
   "execution_count": null,
   "metadata": {},
   "outputs": [],
   "source": [
    "tpe_clf = TPEOPT(ParaSpace, max_runs = 100, estimator = estimator, cv = cv, \n",
    "            scoring = \"accuracy\", refit = True, rand_seed = 0, verbose = True)\n",
    "tpe_clf.fit(x, y)"
   ]
  },
  {
   "cell_type": "code",
   "execution_count": null,
   "metadata": {},
   "outputs": [],
   "source": [
    "plt.plot(rand_clf.logs[\"score\"].cummax()) \n",
    "plt.plot(lhs_clf.logs[\"score\"].cummax()) \n",
    "plt.plot(sobol_clf.logs[\"score\"].cummax()) \n",
    "plt.plot(ud_clf.logs[\"score\"].cummax()) \n",
    "plt.plot(sequd_clf.logs[\"score\"].cummax()) \n",
    "plt.plot(seqrand_clf.logs[\"score\"].cummax()) \n",
    "plt.plot(gpei_clf.logs[\"score\"].cummax()) \n",
    "plt.plot(smac_clf.logs[\"score\"].cummax()) \n",
    "plt.plot(tpe_clf.logs[\"score\"].cummax()) \n",
    "plt.legend(model_zoo.keys())"
   ]
  }
 ],
 "metadata": {
  "kernelspec": {
   "display_name": "Python 3",
   "language": "python",
   "name": "python3"
  },
  "language_info": {
   "codemirror_mode": {
    "name": "ipython",
    "version": 3
   },
   "file_extension": ".py",
   "mimetype": "text/x-python",
   "name": "python",
   "nbconvert_exporter": "python",
   "pygments_lexer": "ipython3",
   "version": "3.7.3"
  }
 },
 "nbformat": 4,
 "nbformat_minor": 2
}
