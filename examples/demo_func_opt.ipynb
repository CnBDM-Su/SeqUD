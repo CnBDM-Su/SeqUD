{
 "cells": [
  {
   "cell_type": "markdown",
   "metadata": {},
   "source": [
    "# Function optimization"
   ]
  },
  {
   "cell_type": "code",
   "execution_count": 1,
   "metadata": {
    "ExecuteTime": {
     "end_time": "2020-06-11T13:19:00.229943Z",
     "start_time": "2020-06-11T13:18:57.623593Z"
    }
   },
   "outputs": [],
   "source": [
    "%matplotlib inline\n",
    "\n",
    "import numpy as np \n",
    "from matplotlib import pylab as plt\n",
    "from seqmml import SeqUD, SMACOPT, GPEIOPT, TPEOPT\n",
    "\n",
    "def plot_trajectory(xlim, ylim, func, clf, title):\n",
    "    grid_num = 25\n",
    "    xlist = np.linspace(xlim[0], xlim[1], grid_num)\n",
    "    ylist = np.linspace(ylim[0], ylim[1], grid_num)\n",
    "    X, Y = np.meshgrid(xlist, ylist)\n",
    "    Z = np.zeros((grid_num, grid_num))\n",
    "    for i, x1 in enumerate(xlist):\n",
    "        for j, x2 in enumerate(ylist):\n",
    "            Z[j, i] = func({\"x1\": x1, \"x2\": x2})\n",
    "\n",
    "    cp = plt.contourf(X, Y, Z)\n",
    "    plt.scatter(clf.logs.loc[:, ['x1']], \n",
    "                clf.logs.loc[:, ['x2']], color=\"red\")\n",
    "    plt.xlim(xlim[0], xlim[1])\n",
    "    plt.ylim(ylim[0], ylim[1])\n",
    "    plt.colorbar(cp)\n",
    "    plt.xlabel('x1')\n",
    "    plt.ylabel('x2')\n",
    "    plt.title(title)\n",
    "    \n",
    "rand_seed = 2\n",
    "max_runs = 100"
   ]
  },
  {
   "cell_type": "markdown",
   "metadata": {},
   "source": [
    "### 1  Cliff-Shaped function"
   ]
  },
  {
   "cell_type": "markdown",
   "metadata": {},
   "source": [
    " $$\n",
    "f_{1}\\left(x_{1}, x_{2} \\right) = \\left(x_{1}, x_{2} \\right) = \\exp \\left\\{-\\frac{1}{2} \\frac {x_{1}^{2}}{100} \\right\\} - \\frac{1}{2} \\left(x_{2} + 0.03 x_{1}^{2} - 3 \\right)^{2}, \\\\\n",
    " x_{1} \\in [-20,20 ] , x_{2} \\in [-10,5].\n",
    "$$"
   ]
  },
  {
   "cell_type": "code",
   "execution_count": 2,
   "metadata": {
    "ExecuteTime": {
     "end_time": "2020-06-11T13:19:00.250136Z",
     "start_time": "2020-06-11T13:19:00.233473Z"
    }
   },
   "outputs": [],
   "source": [
    "def cliff(parameters):\n",
    "    x1 = parameters['x1']\n",
    "    x2 = parameters['x2']\n",
    "    term1 = -0.5 * x1 ** 2 / 100\n",
    "    term2 = -0.5 * (x2 + 0.03 * x1 ** 2 - 3) ** 2\n",
    "    y = np.exp(term1 + term2)\n",
    "    return  y\n",
    "\n",
    "ParaSpace = {'x1': {'Type': 'continuous', 'Range': [-20,20], 'Wrapper': lambda x: x}, \n",
    "             'x2': {'Type': 'continuous', 'Range': [-10,5], 'Wrapper': lambda x: x}}"
   ]
  },
  {
   "cell_type": "code",
   "execution_count": null,
   "metadata": {
    "ExecuteTime": {
     "start_time": "2020-06-11T13:18:50.808Z"
    },
    "scrolled": false
   },
   "outputs": [
    {
     "name": "stdout",
     "output_type": "stream",
     "text": [
      "Stage 1 completed (20/100) with best score: 0.87563.\n",
      "Stage 2 completed (34/100) with best score: 0.98313.\n",
      "Stage 3 completed (50/100) with best score: 0.98313.\n",
      "Stage 4 completed (64/100) with best score: 0.99210.\n",
      "Stage 5 completed (80/100) with best score: 0.99684.\n",
      "Stage 6 completed (95/100) with best score: 0.99972.\n",
      "Maximum number of runs reached, stop!\n",
      "SeqUD completed in 2.60 seconds.\n",
      "The best score is: 0.99972.\n",
      "The best configurations are:\n",
      "x1                  : -0.1875\n",
      "x2                  : 2.98438\n"
     ]
    },
    {
     "data": {
      "application/vnd.jupyter.widget-view+json": {
       "model_id": "f8838ea12d55432b9e8112ac8fada063",
       "version_major": 2,
       "version_minor": 0
      },
      "text/plain": [
       "HBox(children=(FloatProgress(value=0.0), HTML(value='')))"
      ]
     },
     "metadata": {},
     "output_type": "display_data"
    },
    {
     "name": "stdout",
     "output_type": "stream",
     "text": [
      "100%|██████████| 100/100 [00:03<00:00, 29.28it/s, best loss: -0.9906203704859106]\n",
      "TPE completed in 3.43 seconds.\n",
      "The best score is: 0.99062.\n",
      "The best configurations are:\n",
      "x1                  : -0.99927\n",
      "x2                  : 2.8759\n",
      "\n"
     ]
    },
    {
     "data": {
      "application/vnd.jupyter.widget-view+json": {
       "model_id": "908beb3644fa459a99daca3dcdf308b8",
       "version_major": 2,
       "version_minor": 0
      },
      "text/plain": [
       "HBox(children=(FloatProgress(value=0.0), HTML(value='')))"
      ]
     },
     "metadata": {},
     "output_type": "display_data"
    },
    {
     "name": "stdout",
     "output_type": "stream",
     "text": [
      "SMAC completed in 53.92 seconds.\n",
      "The best score is: 0.80073.\n",
      "The best configurations are:\n",
      "x1                  : -5.22187\n",
      "x2                  : 2.59644\n",
      "\n"
     ]
    },
    {
     "data": {
      "application/vnd.jupyter.widget-view+json": {
       "model_id": "a89816d55e0b46d7bc68d080ad57966f",
       "version_major": 2,
       "version_minor": 0
      },
      "text/plain": [
       "HBox(children=(FloatProgress(value=0.0), HTML(value='')))"
      ]
     },
     "metadata": {},
     "output_type": "display_data"
    }
   ],
   "source": [
    "sequd_clf = SeqUD(ParaSpace, max_runs=max_runs, rand_seed=rand_seed, verbose=True)\n",
    "sequd_clf.fmin(cliff)\n",
    "\n",
    "tpe_clf = TPEOPT(ParaSpace, max_runs=max_runs, rand_seed=rand_seed, verbose=True)\n",
    "tpe_clf.fmin(cliff)\n",
    "\n",
    "smac_clf = SMACOPT(ParaSpace, max_runs=max_runs, rand_seed=rand_seed, verbose=True)\n",
    "smac_clf.fmin(cliff)\n",
    "\n",
    "gpei_clf = GPEIOPT(ParaSpace, max_runs=max_runs, time_out=60, rand_seed=rand_seed, verbose=True)\n",
    "gpei_clf.fmin(cliff)"
   ]
  },
  {
   "cell_type": "code",
   "execution_count": null,
   "metadata": {
    "ExecuteTime": {
     "start_time": "2020-06-11T13:18:50.827Z"
    }
   },
   "outputs": [],
   "source": [
    "plt.figure(figsize=(16, 12))\n",
    "plt.subplot(2, 2, 1)\n",
    "plot_trajectory([-20, 20], [-10, 5], cliff, sequd_clf, \"SeqUD\")\n",
    "\n",
    "plt.subplot(2, 2, 2)\n",
    "plot_trajectory([-20, 20], [-10, 5], cliff, tpe_clf, \"TPE\")\n",
    "\n",
    "plt.subplot(2, 2, 3)\n",
    "plot_trajectory([-20, 20], [-10, 5], cliff, smac_clf, \"SMAC\")\n",
    "\n",
    "plt.subplot(2, 2, 4)\n",
    "plot_trajectory([-20, 20], [-10, 5], cliff, gpei_clf, \"GPEI\")"
   ]
  },
  {
   "cell_type": "markdown",
   "metadata": {},
   "source": [
    "### 2. Octopus-Shaped function"
   ]
  },
  {
   "cell_type": "markdown",
   "metadata": {},
   "source": [
    "$$\n",
    "f_{2}(x_{1}, x_{2})  = 2cos(10x)\\sin(10y)+\\sin(10xy), \\quad x_{1}, x_{2} \\in [0, 1].\n",
    "$$"
   ]
  },
  {
   "cell_type": "code",
   "execution_count": null,
   "metadata": {
    "ExecuteTime": {
     "start_time": "2020-06-11T13:18:50.892Z"
    }
   },
   "outputs": [],
   "source": [
    "def octopus(parameters):\n",
    "    x1 = parameters['x1']\n",
    "    x2 = parameters['x2']\n",
    "    y = 2 * np.cos(10 * x1) * np.sin(10 * x2) + np.sin(10 * x1 * x2)\n",
    "    return  y\n",
    "\n",
    "ParaSpace = {'x1': {'Type': 'continuous', 'Range': [0,1], 'Wrapper': lambda x: x}, \n",
    "             'x2': {'Type': 'continuous', 'Range': [0,1], 'Wrapper': lambda x: x}}"
   ]
  },
  {
   "cell_type": "code",
   "execution_count": null,
   "metadata": {
    "ExecuteTime": {
     "start_time": "2020-06-11T13:18:50.916Z"
    }
   },
   "outputs": [],
   "source": [
    "sequd_clf = SeqUD(ParaSpace, max_runs=max_runs, rand_seed=rand_seed, verbose=True)\n",
    "sequd_clf.fmin(octopus)\n",
    "\n",
    "tpe_clf = TPEOPT(ParaSpace, max_runs=max_runs, rand_seed=rand_seed, verbose=True)\n",
    "tpe_clf.fmin(octopus)\n",
    "\n",
    "smac_clf = SMACOPT(ParaSpace, max_runs=max_runs, rand_seed=rand_seed, verbose=True)\n",
    "smac_clf.fmin(octopus)\n",
    "\n",
    "gpei_clf = GPEIOPT(ParaSpace, max_runs=max_runs, time_out=60, rand_seed=rand_seed, verbose=True)\n",
    "gpei_clf.fmin(octopus)"
   ]
  },
  {
   "cell_type": "markdown",
   "metadata": {},
   "source": [
    "Note the **results of GPEI may be different when using different random seed**. \n",
    "Sometimes it can find the best location, and it may also be trapped into local optima jsut as in the current case. "
   ]
  },
  {
   "cell_type": "code",
   "execution_count": null,
   "metadata": {
    "ExecuteTime": {
     "start_time": "2020-06-11T13:18:50.945Z"
    }
   },
   "outputs": [],
   "source": [
    "plt.figure(figsize=(16, 12))\n",
    "plt.subplot(2, 2, 1)\n",
    "plot_trajectory([0, 1], [0, 1], octopus, sequd_clf, \"SeqUD\")\n",
    "\n",
    "plt.subplot(2,2,2)\n",
    "plot_trajectory([0, 1], [0, 1], octopus, tpe_clf, \"TPE\")\n",
    "\n",
    "plt.subplot(2, 2, 3)\n",
    "plot_trajectory([0, 1], [0, 1], octopus, smac_clf, \"SMAC\")\n",
    "\n",
    "plt.subplot(2, 2, 4)\n",
    "plot_trajectory([0, 1], [0, 1], octopus, gpei_clf, \"GPEI\")"
   ]
  }
 ],
 "metadata": {
  "kernelspec": {
   "display_name": "base",
   "language": "python",
   "name": "base"
  },
  "language_info": {
   "codemirror_mode": {
    "name": "ipython",
    "version": 3
   },
   "file_extension": ".py",
   "mimetype": "text/x-python",
   "name": "python",
   "nbconvert_exporter": "python",
   "pygments_lexer": "ipython3",
   "version": "3.6.10"
  },
  "latex_envs": {
   "LaTeX_envs_menu_present": true,
   "autoclose": false,
   "autocomplete": true,
   "bibliofile": "biblio.bib",
   "cite_by": "apalike",
   "current_citInitial": 1,
   "eqLabelWithNumbers": true,
   "eqNumInitial": 1,
   "hotkeys": {
    "equation": "Ctrl-E",
    "itemize": "Ctrl-I"
   },
   "labels_anchors": false,
   "latex_user_defs": false,
   "report_style_numbering": false,
   "user_envs_cfg": false
  },
  "varInspector": {
   "cols": {
    "lenName": 16,
    "lenType": 16,
    "lenVar": 40
   },
   "kernels_config": {
    "python": {
     "delete_cmd_postfix": "",
     "delete_cmd_prefix": "del ",
     "library": "var_list.py",
     "varRefreshCmd": "print(var_dic_list())"
    },
    "r": {
     "delete_cmd_postfix": ") ",
     "delete_cmd_prefix": "rm(",
     "library": "var_list.r",
     "varRefreshCmd": "cat(var_dic_list()) "
    }
   },
   "types_to_exclude": [
    "module",
    "function",
    "builtin_function_or_method",
    "instance",
    "_Feature"
   ],
   "window_display": false
  }
 },
 "nbformat": 4,
 "nbformat_minor": 2
}
