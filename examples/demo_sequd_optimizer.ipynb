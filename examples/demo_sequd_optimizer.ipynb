{
 "cells": [
  {
   "cell_type": "code",
   "execution_count": 1,
   "metadata": {},
   "outputs": [],
   "source": [
    "import numpy as np\n",
    "import pandas as pd\n",
    "from scipy.special import exp10\n",
    "from matplotlib import pylab as plt\n",
    "\n",
    "from sklearn import datasets\n",
    "from sklearn.model_selection import KFold, StratifiedKFold, cross_val_score\n",
    "from sklearn.metrics import make_scorer, accuracy_score, mean_squared_error, silhouette_score\n",
    "\n",
    "from SeqMM.pySeqUD import SeqUDOptimizer"
   ]
  },
  {
   "cell_type": "markdown",
   "metadata": {},
   "source": [
    "## Example 1: Cliff-Shaped function"
   ]
  },
  {
   "cell_type": "markdown",
   "metadata": {},
   "source": [
    "$$\n",
    "f_{1}\\left(x_{1}, x_{2} \\right) = \\left(x_{1}, x_{2} \\right) = \\exp \\left\\{-\\frac{1}{2} \\frac {x_{1}^{2}}{100} \\right\\} - \\frac{1}{2} \\left(x_{2} + 0.03 x_{1}^{2} - 3 \\right)^{2}, \\\\\n",
    " x_{1} \\in [-20,20 ] , x_{2} \\in [-10,5].\n",
    "$$"
   ]
  },
  {
   "cell_type": "code",
   "execution_count": 2,
   "metadata": {},
   "outputs": [
    {
     "ename": "AttributeError",
     "evalue": "'SeqUDOptimizer' object has no attribute '_run_search'",
     "output_type": "error",
     "traceback": [
      "\u001b[0;31m---------------------------------------------------------------------------\u001b[0m",
      "\u001b[0;31mAttributeError\u001b[0m                            Traceback (most recent call last)",
      "\u001b[0;32m<ipython-input-2-239d137d0bf3>\u001b[0m in \u001b[0;36m<module>\u001b[0;34m\u001b[0m\n\u001b[1;32m     14\u001b[0m \u001b[0mLevel_Number\u001b[0m \u001b[0;34m=\u001b[0m \u001b[0;36m20\u001b[0m\u001b[0;34m\u001b[0m\u001b[0;34m\u001b[0m\u001b[0m\n\u001b[1;32m     15\u001b[0m \u001b[0mclf\u001b[0m \u001b[0;34m=\u001b[0m \u001b[0mSeqUDOptimizer\u001b[0m\u001b[0;34m(\u001b[0m\u001b[0mcliff\u001b[0m\u001b[0;34m,\u001b[0m \u001b[0mParaSpace\u001b[0m\u001b[0;34m,\u001b[0m \u001b[0mLevel_Number\u001b[0m\u001b[0;34m,\u001b[0m \u001b[0mn_jobs\u001b[0m \u001b[0;34m=\u001b[0m \u001b[0;36m1\u001b[0m\u001b[0;34m,\u001b[0m \u001b[0mverbose\u001b[0m \u001b[0;34m=\u001b[0m \u001b[0;32mTrue\u001b[0m\u001b[0;34m)\u001b[0m\u001b[0;34m\u001b[0m\u001b[0;34m\u001b[0m\u001b[0m\n\u001b[0;32m---> 16\u001b[0;31m \u001b[0mclf\u001b[0m\u001b[0;34m.\u001b[0m\u001b[0msearch\u001b[0m\u001b[0;34m(\u001b[0m\u001b[0;34m)\u001b[0m\u001b[0;34m\u001b[0m\u001b[0;34m\u001b[0m\u001b[0m\n\u001b[0m",
      "\u001b[0;32m~/anaconda2_local/lib/python3.7/site-packages/SeqMM/pySeqUD/optSeqUD.py\u001b[0m in \u001b[0;36msearch\u001b[0;34m(self)\u001b[0m\n\u001b[1;32m     84\u001b[0m             \u001b[0;32mreturn\u001b[0m \u001b[0mscore\u001b[0m\u001b[0;34m\u001b[0m\u001b[0;34m\u001b[0m\u001b[0m\n\u001b[1;32m     85\u001b[0m \u001b[0;34m\u001b[0m\u001b[0m\n\u001b[0;32m---> 86\u001b[0;31m         \u001b[0mself\u001b[0m\u001b[0;34m.\u001b[0m\u001b[0m_run_search\u001b[0m\u001b[0;34m(\u001b[0m\u001b[0mobj_func_wrap\u001b[0m\u001b[0;34m)\u001b[0m\u001b[0;34m\u001b[0m\u001b[0;34m\u001b[0m\u001b[0m\n\u001b[0m\u001b[1;32m     87\u001b[0m \u001b[0;34m\u001b[0m\u001b[0m\n",
      "\u001b[0;31mAttributeError\u001b[0m: 'SeqUDOptimizer' object has no attribute '_run_search'"
     ]
    }
   ],
   "source": [
    "def cliff(parameters):\n",
    "    \n",
    "    x1 = parameters['x1']\n",
    "    x2 = parameters['x2']\n",
    "\n",
    "    term1 = -0.5*x1**2/100\n",
    "    term2 = -0.5*(x2+0.03*x1**2-3)**2\n",
    "    y = np.exp(term1 + term2)\n",
    "    return  y\n",
    "\n",
    "ParaSpace = {'x1': {'Type': 'continuous', 'Range': [-20,20], 'Wrapper': lambda x: x}, \n",
    "             'x2': {'Type': 'continuous', 'Range': [-10,5], 'Wrapper': lambda x: x}}\n",
    "\n",
    "Level_Number = 20\n",
    "clf = SeqUDOptimizer(cliff, ParaSpace, Level_Number, n_jobs = 1, verbose = True)\n",
    "clf.search()"
   ]
  },
  {
   "cell_type": "code",
   "execution_count": null,
   "metadata": {},
   "outputs": [],
   "source": [
    "from math import sqrt\n",
    "from joblib import Parallel, delayed\n",
    "import multiprocessing  \n",
    "from tqdm import tqdm_notebook as tqdm\n",
    "\n",
    "print(\"Iteration 1\")\n",
    "def sqrt(x):\n",
    "    return x\n",
    "result = Parallel(n_jobs=2)(delayed(sqrt)(i ** 2) for i in tqdm(range(100000),  desc = \"dd\", postfix = \"Be:\"+ str(max(result))))\n"
   ]
  },
  {
   "cell_type": "code",
   "execution_count": null,
   "metadata": {},
   "outputs": [],
   "source": [
    "grid_num = 25\n",
    "xlist = np.linspace(-20, 20, grid_num)\n",
    "ylist = np.linspace(-10, 5, grid_num)\n",
    "X, Y = np.meshgrid(xlist, ylist)\n",
    "Z = np.zeros((grid_num,grid_num))\n",
    "for i, x1 in enumerate(xlist):\n",
    "    for j, x2 in enumerate(ylist):\n",
    "        Z[j,i] = cliff({\"x1\": x1, \"x2\": x2})\n",
    "        \n",
    "cp = plt.contourf(X, Y, Z)\n",
    "plt.scatter(clf.logs.loc[:,['x1']], \n",
    "            clf.logs.loc[:,['x2']], color = \"red\")\n",
    "plt.ylim(-10,5)\n",
    "plt.xlim(-20,20)\n",
    "plt.colorbar(cp)\n",
    "plt.xlabel('x1')\n",
    "plt.ylabel('x2')\n",
    "plt.show()"
   ]
  },
  {
   "cell_type": "markdown",
   "metadata": {},
   "source": [
    "## Example 2: Octopus-Shaped function"
   ]
  },
  {
   "cell_type": "markdown",
   "metadata": {},
   "source": [
    "$$\n",
    "f_{2}(x_{1}, x_{2})  = 2\\cos(10x)\\sin(10y)+\\sin(10xy), \\quad x_{1}, x_{2} \\in [0, 1].\n",
    "$$"
   ]
  },
  {
   "cell_type": "code",
   "execution_count": null,
   "metadata": {},
   "outputs": [],
   "source": [
    "def octopus(parameters):\n",
    "    \n",
    "    x1 = parameters['x1']\n",
    "    x2 = parameters['x2']\n",
    "\n",
    "    y = 2*np.cos(10*x1)*np.sin(10*x2)+np.sin(10*x1*x2)\n",
    "    return  y\n",
    "\n",
    "ParaSpace = {'x1': {'Type': 'continuous', 'Range': [0,1], 'Wrapper': lambda x: x}, \n",
    "             'x2': {'Type': 'continuous', 'Range': [0,1], 'Wrapper': lambda x: x}}\n",
    "\n",
    "Level_Number = 20\n",
    "clf = SeqUDOptimizer(octopus, ParaSpace, Level_Number, n_jobs = 10, verbose = True)\n",
    "clf.search()"
   ]
  },
  {
   "cell_type": "code",
   "execution_count": null,
   "metadata": {},
   "outputs": [],
   "source": [
    "grid_num = 25\n",
    "xlist = np.linspace(0, 1, grid_num)\n",
    "ylist = np.linspace(0, 1, grid_num)\n",
    "X, Y = np.meshgrid(xlist, ylist)\n",
    "Z = np.zeros((grid_num,grid_num))\n",
    "for i, x1 in enumerate(xlist):\n",
    "    for j, x2 in enumerate(ylist):\n",
    "        Z[j,i] = octopus({\"x1\": x1, \"x2\": x2})\n",
    "        \n",
    "cp = plt.contourf(X, Y, Z)\n",
    "plt.scatter(clf.logs.loc[:,['x1']], \n",
    "            clf.logs.loc[:,['x2']], color = \"red\")\n",
    "plt.ylim(0,1)\n",
    "plt.xlim(0,1)\n",
    "plt.colorbar(cp)\n",
    "plt.xlabel('x1')\n",
    "plt.ylabel('x2')\n",
    "plt.show()"
   ]
  }
 ],
 "metadata": {
  "kernelspec": {
   "display_name": "Python 3",
   "language": "python",
   "name": "python3"
  },
  "language_info": {
   "codemirror_mode": {
    "name": "ipython",
    "version": 3
   },
   "file_extension": ".py",
   "mimetype": "text/x-python",
   "name": "python",
   "nbconvert_exporter": "python",
   "pygments_lexer": "ipython3",
   "version": "3.7.3"
  }
 },
 "nbformat": 4,
 "nbformat_minor": 2
}
