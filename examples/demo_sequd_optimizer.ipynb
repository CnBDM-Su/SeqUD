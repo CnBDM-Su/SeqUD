{
 "cells": [
  {
   "cell_type": "code",
   "execution_count": 1,
   "metadata": {},
   "outputs": [],
   "source": [
    "import numpy as np\n",
    "import pandas as pd\n",
    "from scipy.special import exp10\n",
    "from matplotlib import pylab as plt\n",
    "\n",
    "from sklearn import datasets\n",
    "from sklearn.model_selection import KFold, StratifiedKFold, cross_val_score\n",
    "from sklearn.metrics import make_scorer, accuracy_score, mean_squared_error, silhouette_score\n",
    "\n",
    "from SeqMM.pySeqUD import SeqUDOptimizer"
   ]
  },
  {
   "cell_type": "markdown",
   "metadata": {},
   "source": [
    "## Example 1: Cliff-Shaped function"
   ]
  },
  {
   "cell_type": "markdown",
   "metadata": {},
   "source": [
    "$$\n",
    "f_{1}\\left(x_{1}, x_{2} \\right) = \\left(x_{1}, x_{2} \\right) = \\exp \\left\\{-\\frac{1}{2} \\frac {x_{1}^{2}}{100} \\right\\} - \\frac{1}{2} \\left(x_{2} + 0.03 x_{1}^{2} - 3 \\right)^{2}, \\\\\n",
    " x_{1} \\in [-20,20 ] , x_{2} \\in [-10,5].\n",
    "$$"
   ]
  },
  {
   "cell_type": "code",
   "execution_count": 3,
   "metadata": {},
   "outputs": [
    {
     "data": {
      "application/vnd.jupyter.widget-view+json": {
       "model_id": "3c47590487004837b2b6da46f0e69b45",
       "version_major": 2,
       "version_minor": 0
      },
      "text/plain": [
       "HBox(children=(IntProgress(value=0), HTML(value='')))"
      ]
     },
     "metadata": {},
     "output_type": "display_data"
    },
    {
     "name": "stdout",
     "output_type": "stream",
     "text": [
      "Stage 1 completed (20/100) with best score: 0.87563.\n",
      "Stage 2 completed (34/100) with best score: 0.98313.\n",
      "Stage 3 completed (49/100) with best score: 0.98880.\n",
      "Stage 4 completed (63/100) with best score: 0.99002.\n",
      "Stage 5 completed (79/100) with best score: 0.99914.\n",
      "Stage 6 completed (93/100) with best score: 0.99981.\n",
      "Maximum number of runs reached, stop!\n",
      "Search completed in 4.07 seconds.\n",
      "The best score is: 0.99981.\n",
      "The best configurations are:\n",
      "x1                  : -0.125\n",
      "x2                  : 2.98438\n"
     ]
    }
   ],
   "source": [
    "def cliff(parameters):\n",
    "    \n",
    "    x1 = parameters['x1']\n",
    "    x2 = parameters['x2']\n",
    "\n",
    "    term1 = -0.5*x1**2/100\n",
    "    term2 = -0.5*(x2+0.03*x1**2-3)**2\n",
    "    y = np.exp(term1 + term2)\n",
    "    return  y\n",
    "\n",
    "ParaSpace = {'x1': {'Type': 'continuous', 'Range': [-20,20], 'Wrapper': lambda x: x}, \n",
    "             'x2': {'Type': 'continuous', 'Range': [-10,5], 'Wrapper': lambda x: x}}\n",
    "\n",
    "Level_Number = 20\n",
    "clf = SeqUDOptimizer(cliff, ParaSpace, Level_Number, n_jobs = 1, verbose = True)\n",
    "clf.search()"
   ]
  },
  {
   "cell_type": "code",
   "execution_count": 24,
   "metadata": {},
   "outputs": [
    {
     "name": "stdout",
     "output_type": "stream",
     "text": [
      "Iteration 1\n"
     ]
    },
    {
     "data": {
      "application/vnd.jupyter.widget-view+json": {
       "model_id": "67a5e158939e45418f873e32fcbf4e8c",
       "version_major": 2,
       "version_minor": 0
      },
      "text/plain": [
       "HBox(children=(IntProgress(value=0, description='dd', max=100000, style=ProgressStyle(description_width='initi…"
      ]
     },
     "metadata": {},
     "output_type": "display_data"
    }
   ],
   "source": [
    "from math import sqrt\n",
    "from joblib import Parallel, delayed\n",
    "import multiprocessing  \n",
    "from tqdm import tqdm_notebook as tqdm\n",
    "\n",
    "print(\"Iteration 1\")\n",
    "def sqrt(x):\n",
    "    return x\n",
    "result = Parallel(n_jobs=2)(delayed(sqrt)(i ** 2) for i in tqdm(range(100000),  desc = \"dd\", postfix = \"Be:\"+ str(max(result))))\n"
   ]
  },
  {
   "cell_type": "code",
   "execution_count": null,
   "metadata": {},
   "outputs": [],
   "source": [
    "grid_num = 25\n",
    "xlist = np.linspace(-20, 20, grid_num)\n",
    "ylist = np.linspace(-10, 5, grid_num)\n",
    "X, Y = np.meshgrid(xlist, ylist)\n",
    "Z = np.zeros((grid_num,grid_num))\n",
    "for i, x1 in enumerate(xlist):\n",
    "    for j, x2 in enumerate(ylist):\n",
    "        Z[j,i] = cliff({\"x1\": x1, \"x2\": x2})\n",
    "        \n",
    "cp = plt.contourf(X, Y, Z)\n",
    "plt.scatter(clf.logs.loc[:,['x1']], \n",
    "            clf.logs.loc[:,['x2']], color = \"red\")\n",
    "plt.ylim(-10,5)\n",
    "plt.xlim(-20,20)\n",
    "plt.colorbar(cp)\n",
    "plt.xlabel('x1')\n",
    "plt.ylabel('x2')\n",
    "plt.show()"
   ]
  },
  {
   "cell_type": "markdown",
   "metadata": {},
   "source": [
    "## Example 2: Octopus-Shaped function"
   ]
  },
  {
   "cell_type": "markdown",
   "metadata": {},
   "source": [
    "$$\n",
    "f_{2}(x_{1}, x_{2})  = 2\\cos(10x)\\sin(10y)+\\sin(10xy), \\quad x_{1}, x_{2} \\in [0, 1].\n",
    "$$"
   ]
  },
  {
   "cell_type": "code",
   "execution_count": null,
   "metadata": {},
   "outputs": [],
   "source": [
    "def octopus(parameters):\n",
    "    \n",
    "    x1 = parameters['x1']\n",
    "    x2 = parameters['x2']\n",
    "\n",
    "    y = 2*np.cos(10*x1)*np.sin(10*x2)+np.sin(10*x1*x2)\n",
    "    return  y\n",
    "\n",
    "ParaSpace = {'x1': {'Type': 'continuous', 'Range': [0,1], 'Wrapper': lambda x: x}, \n",
    "             'x2': {'Type': 'continuous', 'Range': [0,1], 'Wrapper': lambda x: x}}\n",
    "\n",
    "Level_Number = 20\n",
    "clf = SeqUDOptimizer(octopus, ParaSpace, Level_Number, n_jobs = 10, verbose = True)\n",
    "clf.search()"
   ]
  },
  {
   "cell_type": "code",
   "execution_count": null,
   "metadata": {},
   "outputs": [],
   "source": [
    "grid_num = 25\n",
    "xlist = np.linspace(0, 1, grid_num)\n",
    "ylist = np.linspace(0, 1, grid_num)\n",
    "X, Y = np.meshgrid(xlist, ylist)\n",
    "Z = np.zeros((grid_num,grid_num))\n",
    "for i, x1 in enumerate(xlist):\n",
    "    for j, x2 in enumerate(ylist):\n",
    "        Z[j,i] = octopus({\"x1\": x1, \"x2\": x2})\n",
    "        \n",
    "cp = plt.contourf(X, Y, Z)\n",
    "plt.scatter(clf.logs.loc[:,['x1']], \n",
    "            clf.logs.loc[:,['x2']], color = \"red\")\n",
    "plt.ylim(0,1)\n",
    "plt.xlim(0,1)\n",
    "plt.colorbar(cp)\n",
    "plt.xlabel('x1')\n",
    "plt.ylabel('x2')\n",
    "plt.show()"
   ]
  }
 ],
 "metadata": {
  "kernelspec": {
   "display_name": "Python 3",
   "language": "python",
   "name": "python3"
  },
  "language_info": {
   "codemirror_mode": {
    "name": "ipython",
    "version": 3
   },
   "file_extension": ".py",
   "mimetype": "text/x-python",
   "name": "python",
   "nbconvert_exporter": "python",
   "pygments_lexer": "ipython3",
   "version": "3.7.3"
  }
 },
 "nbformat": 4,
 "nbformat_minor": 2
}
