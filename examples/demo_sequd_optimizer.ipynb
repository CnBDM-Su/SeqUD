{
 "cells": [
  {
   "cell_type": "markdown",
   "metadata": {},
   "source": [
    "## Example 1: Cliff-Shaped function"
   ]
  },
  {
   "cell_type": "markdown",
   "metadata": {},
   "source": [
    "$$\n",
    "f_{1}\\left(x_{1}, x_{2} \\right) = \\left(x_{1}, x_{2} \\right) = \\exp \\left\\{-\\frac{1}{2} \\frac {x_{1}^{2}}{100} \\right\\} - \\frac{1}{2} \\left(x_{2} + 0.03 x_{1}^{2} - 3 \\right)^{2}, \\\\\n",
    " x_{1} \\in [-20,20 ] , x_{2} \\in [-10,5].\n",
    "$$"
   ]
  },
  {
   "cell_type": "code",
   "execution_count": 1,
   "metadata": {},
   "outputs": [
    {
     "name": "stdout",
     "output_type": "stream",
     "text": [
      "Stage 1 completed (20/100) with best score: 0.87563.\n",
      "Stage 2 completed (34/100) with best score: 0.98313.\n",
      "Stage 3 completed (49/100) with best score: 0.98880.\n",
      "Stage 4 completed (63/100) with best score: 0.99002.\n",
      "Stage 5 completed (79/100) with best score: 0.99914.\n",
      "Stage 6 completed (93/100) with best score: 0.99981.\n",
      "Maximum number of runs reached, stop!\n",
      "Search completed in 4.27 seconds.\n",
      "The best score is: 0.99981.\n",
      "The best configurations are:\n",
      "x1                  : -0.125\n",
      "x2                  : 2.98438\n"
     ]
    }
   ],
   "source": [
    "import numpy as np \n",
    "from matplotlib import pylab as plt\n",
    "from seqmm.pysequd import SeqUDOptimizer\n",
    "\n",
    "def cliff(parameters):\n",
    "    x1 = parameters['x1']\n",
    "    x2 = parameters['x2']\n",
    "    term1 = -0.5*x1**2/100\n",
    "    term2 = -0.5*(x2+0.03*x1**2-3)**2\n",
    "    y = np.exp(term1 + term2)\n",
    "    return  y\n",
    "\n",
    "Level_Number = 20\n",
    "ParaSpace = {'x1': {'Type': 'continuous', 'Range': [-20,20], 'Wrapper': lambda x: x}, \n",
    "             'x2': {'Type': 'continuous', 'Range': [-10,5], 'Wrapper': lambda x: x}}\n",
    "clf = SeqUDOptimizer(cliff, ParaSpace, Level_Number, n_jobs = 1, verbose = True)\n",
    "clf.search()"
   ]
  },
  {
   "cell_type": "code",
   "execution_count": 2,
   "metadata": {},
   "outputs": [
    {
     "data": {
      "image/png": "[encoded data removed]",
      "text/plain": [
       "<Figure size 432x288 with 2 Axes>"
      ]
     },
     "metadata": {
      "needs_background": "light"
     },
     "output_type": "display_data"
    }
   ],
   "source": [
    "grid_num = 25\n",
    "xlist = np.linspace(-20, 20, grid_num)\n",
    "ylist = np.linspace(-10, 5, grid_num)\n",
    "X, Y = np.meshgrid(xlist, ylist)\n",
    "Z = np.zeros((grid_num,grid_num))\n",
    "for i, x1 in enumerate(xlist):\n",
    "    for j, x2 in enumerate(ylist):\n",
    "        Z[j,i] = cliff({\"x1\": x1, \"x2\": x2})\n",
    "        \n",
    "cp = plt.contourf(X, Y, Z)\n",
    "plt.scatter(clf.logs.loc[:,['x1']], \n",
    "            clf.logs.loc[:,['x2']], color = \"red\")\n",
    "plt.ylim(-10,5)\n",
    "plt.xlim(-20,20)\n",
    "plt.colorbar(cp)\n",
    "plt.xlabel('x1')\n",
    "plt.ylabel('x2')\n",
    "plt.show()"
   ]
  },
  {
   "cell_type": "code",
   "execution_count": 2,
   "metadata": {
    "scrolled": true
   },
   "outputs": [],
   "source": [
    "import numpy as np \n",
    "from matplotlib import pylab as plt\n",
    "from smac.facade.func_facade import fmin_smac\n",
    "def cliff(x):\n",
    "    x1 = x[0]\n",
    "    x2 = x[1]\n",
    "    term1 = -0.5*x1**2/100\n",
    "    term2 = -0.5*(x2+0.03*x1**2-3)**2\n",
    "    y = np.exp(term1 + term2)\n",
    "    return -y\n",
    "x, cost, _ = fmin_smac(func=cliff,  # function\n",
    "                       x0=[0,-2.5],    # default configuration\n",
    "                       bounds=[(-20, 20), (-10, 5)],  # limits\n",
    "                       maxfun=100,   # maximum number of evaluations\n",
    "                       rng=3)        # random seed"
   ]
  },
  {
   "cell_type": "code",
   "execution_count": 4,
   "metadata": {},
   "outputs": [],
   "source": [
    "Para, val, x = _.get_X_y()"
   ]
  },
  {
   "cell_type": "code",
   "execution_count": 5,
   "metadata": {},
   "outputs": [
    {
     "data": {
      "text/plain": [
       "-0.8731931771729681"
      ]
     },
     "execution_count": 5,
     "metadata": {},
     "output_type": "execute_result"
    }
   ],
   "source": [
    "min(val)"
   ]
  },
  {
   "cell_type": "code",
   "execution_count": 6,
   "metadata": {},
   "outputs": [
    {
     "data": {
      "image/png": "[encoded data removed]",
      "text/plain": [
       "<Figure size 432x288 with 2 Axes>"
      ]
     },
     "metadata": {
      "needs_background": "light"
     },
     "output_type": "display_data"
    }
   ],
   "source": [
    "grid_num = 25\n",
    "xlist = np.linspace(-20, 20, grid_num)\n",
    "ylist = np.linspace(-10, 5, grid_num)\n",
    "X, Y = np.meshgrid(xlist, ylist)\n",
    "Z = np.zeros((grid_num,grid_num))\n",
    "for i, x1 in enumerate(xlist):\n",
    "    for j, x2 in enumerate(ylist):\n",
    "        Z[j,i] = cliff([x1,x2])\n",
    "        \n",
    "cp = plt.contourf(X, Y, Z)\n",
    "plt.scatter(Para[:,0], \n",
    "            Para[:,1], color = \"red\")\n",
    "plt.ylim(-10,5)\n",
    "plt.xlim(-20,20)\n",
    "plt.colorbar(cp)\n",
    "plt.xlabel('x1')\n",
    "plt.ylabel('x2')\n",
    "plt.show()"
   ]
  },
  {
   "cell_type": "markdown",
   "metadata": {},
   "source": [
    "## Example 2: Octopus-Shaped function"
   ]
  },
  {
   "cell_type": "markdown",
   "metadata": {},
   "source": [
    "$$\n",
    "f_{2}(x_{1}, x_{2})  = 2\\cos(10x)\\sin(10y)+\\sin(10xy), \\quad x_{1}, x_{2} \\in [0, 1].\n",
    "$$"
   ]
  },
  {
   "cell_type": "code",
   "execution_count": 3,
   "metadata": {},
   "outputs": [
    {
     "name": "stdout",
     "output_type": "stream",
     "text": [
      "Stage 1 completed (20/100) with best score: 2.69862.\n",
      "Stage 2 completed (34/100) with best score: 2.69862.\n",
      "Stage 3 completed (48/100) with best score: 2.96798.\n",
      "Stage 4 completed (62/100) with best score: 2.96871.\n",
      "Stage 5 completed (75/100) with best score: 2.98843.\n",
      "Stage 6 completed (91/100) with best score: 2.99450.\n",
      "Maximum number of runs reached, stop!\n",
      "Search completed in 9.88 seconds.\n",
      "The best score is: 2.99450.\n",
      "The best configurations are:\n",
      "x1                  : 0.31719\n",
      "x2                  : 0.47656\n"
     ]
    }
   ],
   "source": [
    "import numpy as np \n",
    "from matplotlib import pylab as plt\n",
    "from seqmm.pysequd import SeqUDOptimizer\n",
    "\n",
    "def octopus(parameters):\n",
    "    x1 = parameters['x1']\n",
    "    x2 = parameters['x2']\n",
    "    y = 2*np.cos(10*x1)*np.sin(10*x2)+np.sin(10*x1*x2)\n",
    "    return  y\n",
    "\n",
    "Level_Number = 20\n",
    "ParaSpace = {'x1': {'Type': 'continuous', 'Range': [0,1], 'Wrapper': lambda x: x}, \n",
    "             'x2': {'Type': 'continuous', 'Range': [0,1], 'Wrapper': lambda x: x}}\n",
    "clf = SeqUDOptimizer(octopus, ParaSpace, Level_Number, n_jobs = 10, verbose = True)\n",
    "clf.search()"
   ]
  },
  {
   "cell_type": "code",
   "execution_count": 4,
   "metadata": {},
   "outputs": [
    {
     "data": {
      "image/png": "[encoded data removed]",
      "text/plain": [
       "<Figure size 432x288 with 2 Axes>"
      ]
     },
     "metadata": {
      "needs_background": "light"
     },
     "output_type": "display_data"
    }
   ],
   "source": [
    "grid_num = 25\n",
    "xlist = np.linspace(0, 1, grid_num)\n",
    "ylist = np.linspace(0, 1, grid_num)\n",
    "X, Y = np.meshgrid(xlist, ylist)\n",
    "Z = np.zeros((grid_num,grid_num))\n",
    "for i, x1 in enumerate(xlist):\n",
    "    for j, x2 in enumerate(ylist):\n",
    "        Z[j,i] = octopus({\"x1\": x1, \"x2\": x2})\n",
    "        \n",
    "cp = plt.contourf(X, Y, Z)\n",
    "plt.scatter(clf.logs.loc[:,['x1']], \n",
    "            clf.logs.loc[:,['x2']], color = \"red\")\n",
    "plt.ylim(0,1)\n",
    "plt.xlim(0,1)\n",
    "plt.colorbar(cp)\n",
    "plt.xlabel('x1')\n",
    "plt.ylabel('x2')\n",
    "plt.show()"
   ]
  }
 ],
 "metadata": {
  "kernelspec": {
   "display_name": "Python 3",
   "language": "python",
   "name": "python3"
  },
  "language_info": {
   "codemirror_mode": {
    "name": "ipython",
    "version": 3
   },
   "file_extension": ".py",
   "mimetype": "text/x-python",
   "name": "python",
   "nbconvert_exporter": "python",
   "pygments_lexer": "ipython3",
   "version": "3.7.3"
  }
 },
 "nbformat": 4,
 "nbformat_minor": 2
}
