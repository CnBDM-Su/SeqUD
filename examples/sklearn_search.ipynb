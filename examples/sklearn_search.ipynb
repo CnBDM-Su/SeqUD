{
 "cells": [
  {
   "cell_type": "code",
   "execution_count": 1,
   "metadata": {},
   "outputs": [],
   "source": [
    "import numpy as np\n",
    "from sklearn import svm\n",
    "from sklearn import datasets\n",
    "from sklearn.cluster import KMeans\n",
    "from matplotlib import pylab as plt\n",
    "from sklearn.model_selection import KFold \n",
    "from sklearn.preprocessing import MinMaxScaler\n",
    "from sklearn.model_selection import cross_val_score\n",
    "from sklearn.metrics import make_scorer, accuracy_score, mean_squared_error\n",
    "from seqmml import SeqUD, GPEIOPT, SMACOPT, TPEOPT"
   ]
  },
  {
   "cell_type": "markdown",
   "metadata": {},
   "source": [
    "# Example 1: SVM for Classification"
   ]
  },
  {
   "cell_type": "code",
   "execution_count": 2,
   "metadata": {
    "scrolled": true
   },
   "outputs": [],
   "source": [
    "sx = MinMaxScaler()\n",
    "dt = datasets.load_breast_cancer()\n",
    "x = sx.fit_transform(dt.data)\n",
    "y = dt.target\n",
    "\n",
    "ParaSpace = {'C':     {'Type': 'continuous', 'Range': [-6, 16], 'Wrapper': np.exp2}, \n",
    "             'gamma': {'Type': 'continuous', 'Range': [-16, 6], 'Wrapper': np.exp2}}\n",
    "\n",
    "estimator = svm.SVC()\n",
    "score_metric = make_scorer(accuracy_score, True)\n",
    "cv = KFold(n_splits=5, random_state=0, shuffle=True)"
   ]
  },
  {
   "cell_type": "code",
   "execution_count": 3,
   "metadata": {},
   "outputs": [
    {
     "name": "stdout",
     "output_type": "stream",
     "text": [
      "Stage 1 completed (20/100) with best score: 0.97895.\n",
      "Stage 2 completed (34/100) with best score: 0.97895.\n",
      "Stage 3 completed (48/100) with best score: 0.97895.\n",
      "Stage 4 completed (63/100) with best score: 0.98246.\n",
      "Stage 5 completed (78/100) with best score: 0.98246.\n",
      "Stage 6 completed (92/100) with best score: 0.98421.\n",
      "Maximum number of runs reached, stop!\n",
      "Search completed in 9.14 seconds.\n",
      "The best score is: 0.98421.\n",
      "The best configurations are:\n",
      "C                   : 12.63519\n",
      "gamma               : 1.08815\n"
     ]
    },
    {
     "data": {
      "application/vnd.jupyter.widget-view+json": {
       "model_id": "b25186da56cf4b3f9d090f79a9b2a7fc",
       "version_major": 2,
       "version_minor": 0
      },
      "text/plain": [
       "HBox(children=(IntProgress(value=0), HTML(value='')))"
      ]
     },
     "metadata": {},
     "output_type": "display_data"
    },
    {
     "name": "stdout",
     "output_type": "stream",
     "text": [
      "Search completed in 8.49 seconds.\n",
      "The best score is: 0.98246.\n",
      "The best configurations are:\n",
      "C                   : 11.43717\n",
      "gamma               : 1.09929\n",
      "\n"
     ]
    },
    {
     "data": {
      "application/vnd.jupyter.widget-view+json": {
       "model_id": "4bd998e8523740c19e0a349e75d32a3e",
       "version_major": 2,
       "version_minor": 0
      },
      "text/plain": [
       "HBox(children=(IntProgress(value=0), HTML(value='')))"
      ]
     },
     "metadata": {},
     "output_type": "display_data"
    },
    {
     "name": "stdout",
     "output_type": "stream",
     "text": [
      "Search completed in 82.47 seconds.\n",
      "The best score is: 0.97895.\n",
      "The best configurations are:\n",
      "C                   : 6.60025\n",
      "gamma               : 0.14198\n",
      "\n"
     ]
    },
    {
     "data": {
      "application/vnd.jupyter.widget-view+json": {
       "model_id": "051eb92d10224fb7832b533034c0e7a3",
       "version_major": 2,
       "version_minor": 0
      },
      "text/plain": [
       "HBox(children=(IntProgress(value=0), HTML(value='')))"
      ]
     },
     "metadata": {},
     "output_type": "display_data"
    },
    {
     "name": "stdout",
     "output_type": "stream",
     "text": [
      "Search completed in 636.60 seconds.\n",
      "The best score is: 0.98070.\n",
      "The best configurations are:\n",
      "C                   : 15.23092\n",
      "gamma               : 0.76887\n",
      "\n"
     ]
    }
   ],
   "source": [
    "sequd_clf = SeqUD(ParaSpace, level_number = 20, max_runs = 100, max_search_iter = 100, n_jobs= 10, \n",
    "                 estimator = estimator, cv = cv, scoring = score_metric, refit = None, verbose = True)\n",
    "sequd_clf.fit(x, y)\n",
    "\n",
    "tpe_clf = TPEOPT(ParaSpace, max_runs = 100, estimator = estimator, cv = cv, scoring = score_metric, refit = True, verbose = True)\n",
    "clf.fit(x, y)\n",
    "\n",
    "smac_clf = SMACOPT(ParaSpace, max_runs = 100, estimator = estimator, cv = cv, scoring = score_metric, refit = True, verbose = True)\n",
    "clf.fit(x, y)\n",
    "\n",
    "gpei_clf = GPEIOPT(ParaSpace, max_runs = 100, estimator = estimator, cv = cv, scoring = score_metric, refit = True, verbose = True)\n",
    "clf.fit(x, y)"
   ]
  },
  {
   "cell_type": "markdown",
   "metadata": {},
   "source": [
    "A contour plot based on a thorough grid search"
   ]
  },
  {
   "cell_type": "code",
   "execution_count": 4,
   "metadata": {},
   "outputs": [],
   "source": [
    "def plot_trajectory(Z, clf, title):\n",
    "    levels = [0.2, 0.4, 0.8, 0.9, 0.92, 0.94, 0.96, 0.98, 1.0]\n",
    "    cp = plt.contourf(X, Y, Z, levels)\n",
    "    plt.colorbar(cp)\n",
    "    plt.xlabel('C')\n",
    "    plt.ylabel('gamma')\n",
    "    plt.scatter(np.log2(clf.logs.loc[:,['C']]), \n",
    "                np.log2(clf.logs.loc[:,['gamma']]), color = \"red\")\n",
    "    plt.title(title)"
   ]
  },
  {
   "cell_type": "code",
   "execution_count": 5,
   "metadata": {},
   "outputs": [
    {
     "ename": "NameError",
     "evalue": "name 'sequd_clf' is not defined",
     "output_type": "error",
     "traceback": [
      "\u001b[0;31m---------------------------------------------------------------------------\u001b[0m",
      "\u001b[0;31mNameError\u001b[0m                                 Traceback (most recent call last)",
      "\u001b[0;32m<ipython-input-5-ce1b8f46f8e8>\u001b[0m in \u001b[0;36m<module>\u001b[0;34m\u001b[0m\n\u001b[1;32m     12\u001b[0m \u001b[0mplt\u001b[0m\u001b[0;34m.\u001b[0m\u001b[0mfigure\u001b[0m\u001b[0;34m(\u001b[0m\u001b[0mfigsize\u001b[0m\u001b[0;34m=\u001b[0m\u001b[0;34m(\u001b[0m\u001b[0;36m16\u001b[0m\u001b[0;34m,\u001b[0m\u001b[0;36m12\u001b[0m\u001b[0;34m)\u001b[0m\u001b[0;34m)\u001b[0m\u001b[0;34m\u001b[0m\u001b[0;34m\u001b[0m\u001b[0m\n\u001b[1;32m     13\u001b[0m \u001b[0mplt\u001b[0m\u001b[0;34m.\u001b[0m\u001b[0msubplot\u001b[0m\u001b[0;34m(\u001b[0m\u001b[0;36m2\u001b[0m\u001b[0;34m,\u001b[0m\u001b[0;36m2\u001b[0m\u001b[0;34m,\u001b[0m\u001b[0;36m1\u001b[0m\u001b[0;34m)\u001b[0m\u001b[0;34m\u001b[0m\u001b[0;34m\u001b[0m\u001b[0m\n\u001b[0;32m---> 14\u001b[0;31m \u001b[0mplot_trajectory\u001b[0m\u001b[0;34m(\u001b[0m\u001b[0mZ\u001b[0m\u001b[0;34m,\u001b[0m \u001b[0msequd_clf\u001b[0m\u001b[0;34m,\u001b[0m \u001b[0;34m\"SeqUD\"\u001b[0m\u001b[0;34m)\u001b[0m\u001b[0;34m\u001b[0m\u001b[0;34m\u001b[0m\u001b[0m\n\u001b[0m\u001b[1;32m     15\u001b[0m \u001b[0;34m\u001b[0m\u001b[0m\n\u001b[1;32m     16\u001b[0m \u001b[0mplt\u001b[0m\u001b[0;34m.\u001b[0m\u001b[0msubplot\u001b[0m\u001b[0;34m(\u001b[0m\u001b[0;36m2\u001b[0m\u001b[0;34m,\u001b[0m\u001b[0;36m2\u001b[0m\u001b[0;34m,\u001b[0m\u001b[0;36m2\u001b[0m\u001b[0;34m)\u001b[0m\u001b[0;34m\u001b[0m\u001b[0;34m\u001b[0m\u001b[0m\n",
      "\u001b[0;31mNameError\u001b[0m: name 'sequd_clf' is not defined"
     ]
    },
    {
     "data": {
      "image/png": "[encoded data removed]",
      "text/plain": [
       "<Figure size 1152x864 with 1 Axes>"
      ]
     },
     "metadata": {
      "needs_background": "light"
     },
     "output_type": "display_data"
    }
   ],
   "source": [
    "grid_num = 25\n",
    "xlist = np.linspace(-6, 16, grid_num)\n",
    "ylist = np.linspace(-16, 6, grid_num)\n",
    "X, Y = np.meshgrid(xlist, ylist)\n",
    "Z = np.zeros((grid_num,grid_num))\n",
    "for i, C in enumerate(xlist):\n",
    "    for j, gamma in enumerate(ylist):\n",
    "        estimator = svm.SVC(C=2**C,gamma = 2**gamma)\n",
    "        out = cross_val_score(estimator, x, y, cv = cv, scoring = score_metric)\n",
    "        Z[j,i] = np.mean(out)\n",
    "        \n",
    "plt.figure(figsize=(16,12))\n",
    "plt.subplot(2,2,1)\n",
    "plot_trajectory(Z, sequd_clf, \"SeqUD\")\n",
    "\n",
    "plt.subplot(2,2,2)\n",
    "plot_trajectory(Z, tpe_clf, \"TPE\")\n",
    "\n",
    "plt.subplot(2,2,3)\n",
    "plot_trajectory(Z, smac_clf, \"SMAC\")\n",
    "\n",
    "plt.subplot(2,2,4)\n",
    "plot_trajectory(Z, gpei_clf, \"GPEI\")"
   ]
  },
  {
   "cell_type": "markdown",
   "metadata": {},
   "source": [
    "# Example 2: Xgboost for Regression"
   ]
  },
  {
   "cell_type": "code",
   "execution_count": null,
   "metadata": {
    "scrolled": true
   },
   "outputs": [],
   "source": [
    "dt = datasets.load_diabetes()\n",
    "sx = MinMaxScaler()\n",
    "sy = MinMaxScaler()\n",
    "x = sx.fit_transform(dt.data)\n",
    "y = sy.fit_transform(dt.target.reshape([-1,1]))\n",
    "\n",
    "ParaSpace = {'booster':          {'Type': 'categorical', 'Mapping': ['gbtree', 'gblinear']},\n",
    "             'max_depth':        {'Type': 'integer',     'Mapping': np.linspace(2,10,9)}, \n",
    "             'n_estimators':     {'Type': 'integer',     'Mapping': np.linspace(100,500,401)},\n",
    "             'min_child_weight': {'Type': 'integer',     'Mapping': np.linspace(1,100,100)},\n",
    "             'subsample':        {'Type': 'continuous',  'Range': [0, 1],  'Wrapper': lambda x:x},\n",
    "             'colsample_bytree': {'Type': 'continuous',  'Range': [0, 1],  'Wrapper': lambda x:x},\n",
    "             'learning_rate':    {'Type': 'continuous',  'Range': [-5, 0], 'Wrapper': lambda x: 10**x},\n",
    "             'gamma':            {'Type': 'continuous',  'Range': [-5, 0], 'Wrapper': lambda x: 10**x},\n",
    "             'reg_lambda':       {'Type': 'continuous',  'Range': [-5, 0], 'Wrapper': lambda x: 10**x},\n",
    "             'reg_alpha':         {'Type': 'continuous',  'Range': [-5, 0], 'Wrapper': lambda x: 10**x}}\n",
    "\n",
    "estimator = xgb.XGBRegressor()\n",
    "cv = KFold(n_splits=5, random_state=0, shuffle=True)"
   ]
  },
  {
   "cell_type": "code",
   "execution_count": null,
   "metadata": {},
   "outputs": [],
   "source": [
    "sequd_clf = SeqUD(ParaSpace, level_number = 20, max_runs = 100, max_search_iter = 100, n_jobs= 10, \n",
    "                 estimator = estimator, cv = cv, refit = None, verbose = True)\n",
    "sequd_clf.fit(x, y)\n",
    "\n",
    "tpe_clf = TPEOPT(ParaSpace, max_runs = 100, estimator = estimator, cv = cv, refit = True, verbose = True)\n",
    "clf.fit(x, y)\n",
    "\n",
    "smac_clf = SMACOPT(ParaSpace, max_runs = 100, estimator = estimator, cv = cv, refit = True, verbose = True)\n",
    "clf.fit(x, y)\n",
    "\n",
    "gpei_clf = GPEIOPT(ParaSpace, max_runs = 100, estimator = estimator, cv = cv, refit = True, verbose = True)\n",
    "clf.fit(x, y)"
   ]
  },
  {
   "cell_type": "code",
   "execution_count": null,
   "metadata": {},
   "outputs": [],
   "source": [
    "plt.plot(gpei_clf.logs[\"score\"].cummax()) \n",
    "plt.plot(smac_clf.logs[\"score\"].cummax()) \n",
    "plt.plot(tpe_clf.logs[\"score\"].cummax())\n",
    "plt.plot(sequd_clf.logs[\"score\"].cummax()) \n",
    "plt.legend(['GPEI', 'SMAC', 'TPE', 'SeqUD'])"
   ]
  },
  {
   "cell_type": "markdown",
   "metadata": {},
   "source": [
    " # Example 3: Kmeans for Unsupervised Clustering  "
   ]
  },
  {
   "cell_type": "code",
   "execution_count": null,
   "metadata": {
    "scrolled": true
   },
   "outputs": [],
   "source": [
    "sx = MinMaxScaler()\n",
    "dt = datasets.load_iris()\n",
    "x = sx.fit_transform(dt.data)\n",
    "y = dt.target.reshape([-1,1])\n",
    "\n",
    "ParaSpace = {'n_clusters':  {'Type': 'integer',    'Mapping': np.linspace(2,9,8)}, \n",
    "             'tol':         {'Type': 'continuous', 'Range': [-6, -3], 'Wrapper': lambda x: 10**x}}\n",
    "estimator = KMeans()\n",
    "cv = KFold(n_splits=5, random_state=0, shuffle=True)"
   ]
  },
  {
   "cell_type": "code",
   "execution_count": null,
   "metadata": {},
   "outputs": [],
   "source": [
    "sequd_clf = SeqUD(ParaSpace, level_number = 20, max_runs = 100, max_search_iter = 100, n_jobs= 10, \n",
    "                 estimator = estimator, cv = cv, refit = None, verbose = True)\n",
    "sequd_clf.fit(x)\n",
    "\n",
    "tpe_clf = TPEOPT(ParaSpace, max_runs = 100, estimator = estimator, cv = cv, refit = True, verbose = True)\n",
    "clf.fit(x)\n",
    "\n",
    "smac_clf = SMACOPT(ParaSpace, max_runs = 100, estimator = estimator, cv = cv, refit = True, verbose = True)\n",
    "clf.fit(x)\n",
    "\n",
    "gpei_clf = GPEIOPT(ParaSpace, max_runs = 100, estimator = estimator, cv = cv, refit = True, verbose = True)\n",
    "clf.fit(x)"
   ]
  },
  {
   "cell_type": "code",
   "execution_count": null,
   "metadata": {},
   "outputs": [],
   "source": [
    "plt.plot(gpei_clf.logs[\"score\"].cummax()) \n",
    "plt.plot(smac_clf.logs[\"score\"].cummax()) \n",
    "plt.plot(tpe_clf.logs[\"score\"].cummax())\n",
    "plt.plot(sequd_clf.logs[\"score\"].cummax()) \n",
    "plt.legend(['GPEI', 'SMAC', 'TPE', 'SeqUD'])"
   ]
  }
 ],
 "metadata": {
  "kernelspec": {
   "display_name": "base",
   "language": "python",
   "name": "base"
  },
  "language_info": {
   "codemirror_mode": {
    "name": "ipython",
    "version": 3
   },
   "file_extension": ".py",
   "mimetype": "text/x-python",
   "name": "python",
   "nbconvert_exporter": "python",
   "pygments_lexer": "ipython3",
   "version": "3.7.3"
  }
 },
 "nbformat": 4,
 "nbformat_minor": 2
}
