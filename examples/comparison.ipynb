{
 "cells": [
  {
   "cell_type": "code",
   "execution_count": 21,
   "metadata": {},
   "outputs": [],
   "source": [
    "import numpy as np\n",
    "import xgboost as xgb\n",
    "from sklearn import datasets\n",
    "from matplotlib import pylab as plt \n",
    "from sklearn.model_selection import KFold \n",
    "from sklearn.preprocessing import MinMaxScaler\n",
    "from sklearn.metrics import make_scorer, mean_squared_error\n",
    "from seqmm import SeqUDSklearn, SeqUDOptimizer, GPEISklearn,\\\n",
    "        SMACSklearn, TPESklearn, GridSklearn, RandSklearn, LHSSklearn, SobolSklearn, UDSklearn\n",
    "\n",
    "dt = datasets.load_diabetes()\n",
    "sx = MinMaxScaler()\n",
    "sy = MinMaxScaler()\n",
    "x = sx.fit_transform(dt.data)\n",
    "y = sy.fit_transform(dt.target.reshape([-1,1]))\n",
    "\n",
    "ParaSpace = {'booster':          {'Type': 'categorical', 'Mapping': ['gbtree', 'gblinear']},\n",
    "             'max_depth':        {'Type': 'integer',     'Mapping': np.linspace(2,10,9)}, \n",
    "             'n_estimators':     {'Type': 'integer',     'Mapping': np.linspace(100,500,401)},\n",
    "             'min_child_weight': {'Type': 'integer',     'Mapping': np.linspace(1,100,100)},\n",
    "             'subsample':        {'Type': 'continuous',  'Range': [0, 1],  'Wrapper': lambda x:x},\n",
    "             'colsample_bytree': {'Type': 'continuous',  'Range': [0, 1],  'Wrapper': lambda x:x},\n",
    "             'learning_rate':    {'Type': 'continuous',  'Range': [-5, 0], 'Wrapper': lambda x: 10**x},\n",
    "             'gamma':            {'Type': 'continuous',  'Range': [-5, 0], 'Wrapper': lambda x: 10**x},\n",
    "             'reg_lambda':       {'Type': 'continuous',  'Range': [-5, 0], 'Wrapper': lambda x: 10**x},\n",
    "             'reg_alpha':         {'Type': 'continuous',  'Range': [-5, 0], 'Wrapper': lambda x: 10**x}}\n",
    "\n",
    "estimator = xgb.XGBRegressor()\n",
    "score_metric = make_scorer(mean_squared_error, False)\n",
    "cv = KFold(n_splits=5, random_state=0, shuffle=True)"
   ]
  },
  {
   "cell_type": "code",
   "execution_count": 24,
   "metadata": {
    "scrolled": true
   },
   "outputs": [
    {
     "name": "stdout",
     "output_type": "stream",
     "text": [
      "Fitting model: SeqUD\n",
      "The best score is -0.02884: \n",
      "Fitting model: GPEI\n",
      "The best score is -0.03006: \n",
      "Fitting model: SMAC\n",
      "The best score is -0.02886: \n",
      "Fitting model: TPE\n",
      "The best score is -0.02885: \n"
     ]
    },
    {
     "data": {
      "text/plain": [
       "<matplotlib.legend.Legend at 0x7fbe6e12de80>"
      ]
     },
     "execution_count": 24,
     "metadata": {},
     "output_type": "execute_result"
    },
    {
     "data": {
      "image/png": "[encoded data removed]",
      "text/plain": [
       "<Figure size 432x288 with 1 Axes>"
      ]
     },
     "metadata": {
      "needs_background": "light"
     },
     "output_type": "display_data"
    }
   ],
   "source": [
    "seq_model_zoo = {\"SeqUD\": SeqUDSklearn, \n",
    "                 \"SeqRand\": SeqRandSklearn,\n",
    "                  \"GPEI\": GPEISklearn, \n",
    "                  \"SMAC\": SMACSklearn, \n",
    "                  \"TPE\": TPESklearn}\n",
    "for item, model in seq_model_zoo.items():\n",
    "    print(\"Fitting model: %s\"% item)\n",
    "    clf = model(estimator, cv, ParaSpace, max_runs = 100, scoring =  score_metric, refit = True, verbose = False)\n",
    "    clf.fit(x, y)\n",
    "    print(\"The best score is %0.5f: \"% clf.best_score_)\n",
    "    plt.plot(clf.logs[\"score\"].cummax()) \n",
    "plt.legend(seq_model_zoo.keys())"
   ]
  },
  {
   "cell_type": "code",
   "execution_count": 25,
   "metadata": {},
   "outputs": [
    {
     "name": "stdout",
     "output_type": "stream",
     "text": [
      "Fitting model: Grid\n",
      "Fitting model: Rand\n",
      "Fitting model: LHS\n",
      "Fitting model: Sobol\n",
      "Fitting model: UD\n",
      "No design found.\n"
     ]
    },
    {
     "data": {
      "text/plain": [
       "<matplotlib.legend.Legend at 0x7fbd6141d860>"
      ]
     },
     "execution_count": 25,
     "metadata": {},
     "output_type": "execute_result"
    },
    {
     "data": {
      "image/png": "[encoded data removed]",
      "text/plain": [
       "<Figure size 432x288 with 1 Axes>"
      ]
     },
     "metadata": {
      "needs_background": "light"
     },
     "output_type": "display_data"
    }
   ],
   "source": [
    "batch_model_zoo = {\"Grid\": GridSklearn,\n",
    "                  \"Rand\": RandSklearn, \n",
    "                  \"LHS\": LHSSklearn, \n",
    "                  \"Sobol\": SobolSklearn, \n",
    "                  \"UD\": UDSklearn}\n",
    "for item, model in batch_model_zoo.items():\n",
    "    print(\"Fitting model: %s\"% item)\n",
    "    clf = model(estimator, cv, ParaSpace, max_runs = 100, scoring =  score_metric, refit = True, verbose = False)\n",
    "    clf.fit(x, y)\n",
    "    print(\"The best score is %0.5f: \"% clf.best_score_)\n",
    "    plt.plot(clf.logs[\"score\"].cummax()) \n",
    "plt.legend(batch_model_zoo.keys())"
   ]
  },
  {
   "cell_type": "code",
   "execution_count": null,
   "metadata": {},
   "outputs": [],
   "source": [
    "from sklearn import svm\n",
    "from sklearn.datasets import samples_generator\n",
    "from sklearn.feature_selection import SelectKBest\n",
    "from sklearn.feature_selection import f_regression\n",
    "from sklearn.pipeline import Pipeline\n",
    "\n",
    "X, y = samples_generator.make_classification(\n",
    "    n_informative=5, n_redundant=0, random_state=42)\n",
    "\n",
    "anova_filter = SelectKBest(f_regression, k=5)\n",
    "clf = svm.SVC(kernel='linear')\n",
    "anova_svm = Pipeline([('anova', anova_filter), ('svc', clf)])\n",
    "\n",
    "anova_svm.set_params(anova__k=10, svc__C=.1).fit(X, y)\n",
    "ParaSpace = {'anova__k':      {'Type': 'integer', 'Mapping':  np.linspace(2,10,9)},\n",
    "             'svc__C':        {'Type': 'continuous',     'Range': [-6, 16], 'Wrapper': np.exp2}\n",
    "            }\n",
    "\n",
    "cv = KFold(n_splits=5, random_state=0, shuffle=True)\n",
    "clf = SeqUDSklearn(anova_svm, cv, ParaSpace)\n",
    "clf.fit(X, y)"
   ]
  },
  {
   "cell_type": "code",
   "execution_count": null,
   "metadata": {},
   "outputs": [],
   "source": []
  }
 ],
 "metadata": {
  "kernelspec": {
   "display_name": "Python 3",
   "language": "python",
   "name": "python3"
  },
  "language_info": {
   "codemirror_mode": {
    "name": "ipython",
    "version": 3
   },
   "file_extension": ".py",
   "mimetype": "text/x-python",
   "name": "python",
   "nbconvert_exporter": "python",
   "pygments_lexer": "ipython3",
   "version": "3.7.3"
  }
 },
 "nbformat": 4,
 "nbformat_minor": 2
}
