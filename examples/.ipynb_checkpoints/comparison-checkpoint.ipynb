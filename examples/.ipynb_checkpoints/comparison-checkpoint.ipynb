{
 "cells": [
  {
   "cell_type": "code",
   "execution_count": null,
   "metadata": {
    "scrolled": true
   },
   "outputs": [
    {
     "name": "stdout",
     "output_type": "stream",
     "text": [
      "Fitting model: SeqUD\n"
     ]
    }
   ],
   "source": [
    "import numpy as np\n",
    "import xgboost as xgb\n",
    "from sklearn import datasets\n",
    "from matplotlib import pylab as plt \n",
    "from sklearn.model_selection import KFold \n",
    "from sklearn.preprocessing import MinMaxScaler\n",
    "from sklearn.metrics import make_scorer, mean_squared_error\n",
    "from seqmm import SeqUD, SeqRand, GPEIOPT, SMACOPT, TPEOPT,\\\n",
    "                    GridSearch, RandSearch, LHSSearch, SobolSearch, UDSearch\n",
    "\n",
    "dt = datasets.load_diabetes()\n",
    "sx = MinMaxScaler()\n",
    "sy = MinMaxScaler()\n",
    "x = sx.fit_transform(dt.data)\n",
    "y = sy.fit_transform(dt.target.reshape([-1,1]))\n",
    "\n",
    "ParaSpace = {'booster':          {'Type': 'categorical', 'Mapping': ['gbtree', 'gblinear']},\n",
    "             'max_depth':        {'Type': 'integer',     'Mapping': np.linspace(2,8,7)}, \n",
    "             'n_estimators':     {'Type': 'integer',     'Mapping': np.linspace(100,300,201)},\n",
    "             'min_child_weight': {'Type': 'integer',     'Mapping': np.linspace(1,100,100)},\n",
    "             'subsample':        {'Type': 'continuous',  'Range': [0, 1],  'Wrapper': lambda x:x},\n",
    "             'colsample_bytree': {'Type': 'continuous',  'Range': [0, 1],  'Wrapper': lambda x:x},\n",
    "             'learning_rate':    {'Type': 'continuous',  'Range': [-5, 0], 'Wrapper': lambda x: 10**x},\n",
    "             'gamma':            {'Type': 'continuous',  'Range': [-5, 0], 'Wrapper': lambda x: 10**x},\n",
    "             'reg_lambda':       {'Type': 'continuous',  'Range': [-5, 0], 'Wrapper': lambda x: 10**x},\n",
    "             'reg_alpha':         {'Type': 'continuous',  'Range': [-5, 0], 'Wrapper': lambda x: 10**x}}\n",
    "\n",
    "estimator = xgb.XGBRegressor()\n",
    "score_metric = make_scorer(mean_squared_error, False)\n",
    "cv = KFold(n_splits=5, random_state=0, shuffle=True)\n",
    "\n",
    "seq_model_zoo = {\"SeqUD\": SeqUD, \n",
    "                 \"SeqRand\": SeqRand,\n",
    "                  \"GPEI\": GPEIOPT, \n",
    "                  \"SMAC\": SMACOPT, \n",
    "                  \"TPE\": TPEOPT}\n",
    "for item, model in seq_model_zoo.items():\n",
    "    print(\"Fitting model: %s\"% item)\n",
    "    clf = model(ParaSpace, max_runs = 100, estimator = estimator, cv = cv, scoring =  score_metric, refit = True, verbose = False)\n",
    "    clf.fit(x, y)\n",
    "    print(\"The best score is %0.5f: ,time cost: %0.2f:\"% (clf.best_score_,clf.search_time_consumed_))\n",
    "    plt.plot(clf.logs[\"score\"].cummax()) \n",
    "plt.legend(seq_model_zoo.keys())"
   ]
  },
  {
   "cell_type": "code",
   "execution_count": null,
   "metadata": {},
   "outputs": [],
   "source": [
    "batch_model_zoo = {\"Grid\": GridSearch,\n",
    "                  \"Rand\": RandSearch, \n",
    "                  \"LHS\": LHSSearch, \n",
    "                  \"Sobol\": SobolSearch, \n",
    "                  \"UD\": UDSearch}\n",
    "for item, model in batch_model_zoo.items():\n",
    "    print(\"Fitting model: %s\"% item)\n",
    "    clf = model(ParaSpace, max_runs = 100, estimator = estimator, cv = cv, scoring =  score_metric, refit = True, verbose = False)\n",
    "    clf.fit(x, y)\n",
    "    print(\"The best score is %0.5f: ,time cost: %0.2f:\"% (clf.best_score_,clf.search_time_consumed_))\n",
    "    plt.plot(clf.logs[\"score\"].cummax()) \n",
    "plt.legend(batch_model_zoo.keys())"
   ]
  }
 ],
 "metadata": {
  "kernelspec": {
   "display_name": "Python 3",
   "language": "python",
   "name": "python3"
  },
  "language_info": {
   "codemirror_mode": {
    "name": "ipython",
    "version": 3
   },
   "file_extension": ".py",
   "mimetype": "text/x-python",
   "name": "python",
   "nbconvert_exporter": "python",
   "pygments_lexer": "ipython3",
   "version": "3.7.3"
  }
 },
 "nbformat": 4,
 "nbformat_minor": 2
}
