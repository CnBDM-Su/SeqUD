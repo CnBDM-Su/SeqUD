{
 "cells": [
  {
   "cell_type": "code",
   "execution_count": 7,
   "metadata": {},
   "outputs": [],
   "source": [
    "import numpy as np\n",
    "import xgboost as xgb\n",
    "from sklearn import datasets\n",
    "from matplotlib import pylab as plt \n",
    "from sklearn.model_selection import KFold \n",
    "from sklearn.preprocessing import MinMaxScaler\n",
    "from sklearn.metrics import make_scorer, mean_squared_error\n",
    "from seqmm import SeqUDSklearn, SeqUDOptimizer, GPEISklearn, SeqRandSklearn, \\\n",
    "        SMACSklearn, TPESklearn, GridSklearn, RandSklearn, LHSSklearn, SobolSklearn, UDSklearn\n",
    "\n",
    "dt = datasets.load_diabetes()\n",
    "sx = MinMaxScaler()\n",
    "sy = MinMaxScaler()\n",
    "x = sx.fit_transform(dt.data)\n",
    "y = sy.fit_transform(dt.target.reshape([-1,1]))\n",
    "\n",
    "ParaSpace = {'booster':          {'Type': 'categorical', 'Mapping': ['gbtree', 'gblinear']},\n",
    "             'max_depth':        {'Type': 'integer',     'Mapping': np.linspace(2,8,7)}, \n",
    "             'n_estimators':     {'Type': 'integer',     'Mapping': np.linspace(100,300,201)},\n",
    "             'min_child_weight': {'Type': 'integer',     'Mapping': np.linspace(1,100,100)},\n",
    "             'subsample':        {'Type': 'continuous',  'Range': [0, 1],  'Wrapper': lambda x:x},\n",
    "             'colsample_bytree': {'Type': 'continuous',  'Range': [0, 1],  'Wrapper': lambda x:x},\n",
    "             'learning_rate':    {'Type': 'continuous',  'Range': [-5, 0], 'Wrapper': lambda x: 10**x},\n",
    "             'gamma':            {'Type': 'continuous',  'Range': [-5, 0], 'Wrapper': lambda x: 10**x},\n",
    "             'reg_lambda':       {'Type': 'continuous',  'Range': [-5, 0], 'Wrapper': lambda x: 10**x},\n",
    "             'reg_alpha':         {'Type': 'continuous',  'Range': [-5, 0], 'Wrapper': lambda x: 10**x}}\n",
    "\n",
    "estimator = xgb.XGBRegressor()\n",
    "score_metric = make_scorer(mean_squared_error, False)\n",
    "cv = KFold(n_splits=5, random_state=0, shuffle=True)"
   ]
  },
  {
   "cell_type": "code",
   "execution_count": null,
   "metadata": {
    "scrolled": true
   },
   "outputs": [
    {
     "name": "stdout",
     "output_type": "stream",
     "text": [
      "Fitting model: SeqUD\n",
      "The best score is -0.02885: ,time cost: 135.64:\n",
      "Fitting model: SeqRand\n"
     ]
    }
   ],
   "source": [
    "seq_model_zoo = {\"SeqUD\": SeqUDSklearn, \n",
    "                 \"SeqRand\": SeqRandSklearn,\n",
    "                  \"GPEI\": GPEISklearn, \n",
    "                  \"SMAC\": SMACSklearn, \n",
    "                  \"TPE\": TPESklearn}\n",
    "for item, model in seq_model_zoo.items():\n",
    "    print(\"Fitting model: %s\"% item)\n",
    "    clf = model(estimator, cv, ParaSpace, max_runs = 100, scoring =  score_metric, refit = True, verbose = False)\n",
    "    clf.fit(x, y)\n",
    "    print(\"The best score is %0.5f: ,time cost: %0.2f:\"% (clf.best_score_,clf.search_time_consumed_))\n",
    "    plt.plot(clf.logs[\"score\"].cummax()) \n",
    "plt.legend(seq_model_zoo.keys())"
   ]
  },
  {
   "cell_type": "code",
   "execution_count": null,
   "metadata": {},
   "outputs": [],
   "source": [
    "batch_model_zoo = {\"Grid\": GridSklearn,\n",
    "                  \"Rand\": RandSklearn, \n",
    "                  \"LHS\": LHSSklearn, \n",
    "                  \"Sobol\": SobolSklearn, \n",
    "                  \"UD\": UDSklearn}\n",
    "for item, model in batch_model_zoo.items():\n",
    "    print(\"Fitting model: %s\"% item)\n",
    "    clf = model(estimator, cv, ParaSpace, max_runs = 100, scoring =  score_metric, refit = True, verbose = False)\n",
    "    clf.fit(x, y)\n",
    "    print(\"The best score is %0.5f: ,time cost: %0.2f:\"% (clf.best_score_,clf.search_time_consumed_))\n",
    "    plt.plot(clf.logs[\"score\"].cummax()) \n",
    "plt.legend(batch_model_zoo.keys())"
   ]
  },
  {
   "cell_type": "code",
   "execution_count": null,
   "metadata": {},
   "outputs": [],
   "source": []
  }
 ],
 "metadata": {
  "kernelspec": {
   "display_name": "Python 3",
   "language": "python",
   "name": "python3"
  },
  "language_info": {
   "codemirror_mode": {
    "name": "ipython",
    "version": 3
   },
   "file_extension": ".py",
   "mimetype": "text/x-python",
   "name": "python",
   "nbconvert_exporter": "python",
   "pygments_lexer": "ipython3",
   "version": "3.7.3"
  }
 },
 "nbformat": 4,
 "nbformat_minor": 2
}
