{
 "cells": [
  {
   "cell_type": "markdown",
   "metadata": {},
   "source": [
    "## Work with Sklearn Pipeline"
   ]
  },
  {
   "cell_type": "code",
   "execution_count": 3,
   "metadata": {},
   "outputs": [
    {
     "name": "stdout",
     "output_type": "stream",
     "text": [
      "Stage 1 completed (20/100) with best score: 0.83000.\n",
      "Stage 2 completed (33/100) with best score: 0.83000.\n",
      "Stage 3 completed (49/100) with best score: 0.83000.\n",
      "Stage 4 completed (63/100) with best score: 0.83000.\n",
      "Stage 5 completed (78/100) with best score: 0.84000.\n",
      "Stage 6 completed (92/100) with best score: 0.84000.\n",
      "Maximum number of runs reached, stop!\n",
      "Search completed in 40.81 seconds.\n",
      "The best score is: 0.84000.\n",
      "The best configurations are:\n",
      "anova__k            : 7\n",
      "svc__C              : 0.02516\n"
     ]
    }
   ],
   "source": [
    "import numpy as np\n",
    "from sklearn import svm\n",
    "from matplotlib import pylab as plt \n",
    "from sklearn.model_selection import KFold \n",
    "from sklearn.datasets import samples_generator\n",
    "from sklearn.feature_selection import SelectKBest\n",
    "from sklearn.feature_selection import f_regression\n",
    "from sklearn.pipeline import Pipeline\n",
    "\n",
    "from seqmm import SeqUDSklearn\n",
    "\n",
    "X, y = samples_generator.make_classification(\n",
    "    n_informative=5, n_redundant=0, random_state=42)\n",
    "\n",
    "anova_filter = SelectKBest(f_regression, k=5)\n",
    "clf = svm.SVC(kernel='linear')\n",
    "anova_svm = Pipeline([('anova', anova_filter), ('svc', clf)])\n",
    "\n",
    "anova_svm.set_params(anova__k=10, svc__C=.1).fit(X, y)\n",
    "ParaSpace = {'anova__k':      {'Type': 'integer',        'Mapping':  np.linspace(2,10,9)},\n",
    "             'svc__C':        {'Type': 'continuous',     'Range': [-6, 16], 'Wrapper': np.exp2}\n",
    "            }\n",
    "\n",
    "cv = KFold(n_splits=5, random_state=0, shuffle=True)\n",
    "clf = SeqUDSklearn(anova_svm, cv, ParaSpace,verbose = True)\n",
    "clf.fit(X, y)"
   ]
  }
 ],
 "metadata": {
  "kernelspec": {
   "display_name": "Python 3",
   "language": "python",
   "name": "python3"
  },
  "language_info": {
   "codemirror_mode": {
    "name": "ipython",
    "version": 3
   },
   "file_extension": ".py",
   "mimetype": "text/x-python",
   "name": "python",
   "nbconvert_exporter": "python",
   "pygments_lexer": "ipython3",
   "version": "3.7.3"
  }
 },
 "nbformat": 4,
 "nbformat_minor": 2
}
