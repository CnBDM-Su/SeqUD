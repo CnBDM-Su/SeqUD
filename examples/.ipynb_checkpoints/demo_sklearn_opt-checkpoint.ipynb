{
 "cells": [
  {
   "cell_type": "code",
   "execution_count": 1,
   "metadata": {},
   "outputs": [],
   "source": [
    "import numpy as np\n",
    "import xgboost as xgb\n",
    "from sklearn import svm\n",
    "from sklearn import datasets\n",
    "from sklearn.cluster import KMeans\n",
    "from matplotlib import pylab as plt\n",
    "from sklearn.model_selection import KFold \n",
    "from sklearn.preprocessing import MinMaxScaler\n",
    "from sklearn.model_selection import cross_val_score\n",
    "from sklearn.metrics import make_scorer, accuracy_score, mean_squared_error\n",
    "from seqmml import SeqUD, GPEIOPT, SMACOPT, TPEOPT"
   ]
  },
  {
   "cell_type": "markdown",
   "metadata": {},
   "source": [
    "# Example 1: SVM for Classification"
   ]
  },
  {
   "cell_type": "code",
   "execution_count": 2,
   "metadata": {
    "scrolled": true
   },
   "outputs": [],
   "source": [
    "sx = MinMaxScaler()\n",
    "dt = datasets.load_breast_cancer()\n",
    "x = sx.fit_transform(dt.data)\n",
    "y = dt.target\n",
    "\n",
    "ParaSpace = {'C':     {'Type': 'continuous', 'Range': [-6, 16], 'Wrapper': np.exp2}, \n",
    "             'gamma': {'Type': 'continuous', 'Range': [-16, 6], 'Wrapper': np.exp2}}\n",
    "\n",
    "estimator = svm.SVC()\n",
    "score_metric = make_scorer(accuracy_score, True)\n",
    "cv = KFold(n_splits=5, random_state=0, shuffle=True)"
   ]
  },
  {
   "cell_type": "code",
   "execution_count": null,
   "metadata": {},
   "outputs": [
    {
     "name": "stdout",
     "output_type": "stream",
     "text": [
      "Stage 1 completed (20/100) with best score: 0.97895.\n",
      "Stage 2 completed (34/100) with best score: 0.97895.\n"
     ]
    }
   ],
   "source": [
    "sequd_clf = SeqUD(ParaSpace, level_number = 20, max_runs = 100, max_search_iter = 100, n_jobs= 10, \n",
    "                 estimator = estimator, cv = cv, scoring = score_metric, refit = None, verbose = True)\n",
    "sequd_clf.fit(x, y)\n",
    "\n",
    "tpe_clf = TPEOPT(ParaSpace, max_runs = 100, estimator = estimator, cv = cv, scoring = score_metric, refit = True, verbose = True)\n",
    "tpe_clf.fit(x, y)\n",
    "\n",
    "smac_clf = SMACOPT(ParaSpace, max_runs = 100, estimator = estimator, cv = cv, scoring = score_metric, refit = True, verbose = True)\n",
    "smac_clf.fit(x, y)\n",
    "\n",
    "gpei_clf = GPEIOPT(ParaSpace, max_runs = 100, estimator = estimator, cv = cv, scoring = score_metric, refit = True, verbose = True)\n",
    "gpei_clf.fit(x, y)"
   ]
  },
  {
   "cell_type": "markdown",
   "metadata": {},
   "source": [
    "A contour plot based on a thorough grid search"
   ]
  },
  {
   "cell_type": "code",
   "execution_count": null,
   "metadata": {},
   "outputs": [],
   "source": [
    "def plot_trajectory(Z, clf, title):\n",
    "    levels = [0.2, 0.4, 0.8, 0.9, 0.92, 0.94, 0.96, 0.98, 1.0]\n",
    "    cp = plt.contourf(X, Y, Z, levels)\n",
    "    plt.colorbar(cp)\n",
    "    plt.xlabel('Log2_C')\n",
    "    plt.ylabel('Log2_gamma')\n",
    "    plt.scatter(np.log2(clf.logs.loc[:,['C']]), \n",
    "                np.log2(clf.logs.loc[:,['gamma']]), color = \"red\")\n",
    "    plt.title(title)"
   ]
  },
  {
   "cell_type": "code",
   "execution_count": null,
   "metadata": {},
   "outputs": [],
   "source": [
    "grid_num = 25\n",
    "xlist = np.linspace(-6, 16, grid_num)\n",
    "ylist = np.linspace(-16, 6, grid_num)\n",
    "X, Y = np.meshgrid(xlist, ylist)\n",
    "Z = np.zeros((grid_num,grid_num))\n",
    "for i, C in enumerate(xlist):\n",
    "    for j, gamma in enumerate(ylist):\n",
    "        estimator = svm.SVC(C=2**C,gamma = 2**gamma)\n",
    "        out = cross_val_score(estimator, x, y, cv = cv, scoring = score_metric)\n",
    "        Z[j,i] = np.mean(out)\n",
    "        \n",
    "plt.figure(figsize=(16,12))\n",
    "plt.subplot(2,2,1)\n",
    "plot_trajectory(Z, sequd_clf, \"SeqUD\")\n",
    "\n",
    "plt.subplot(2,2,2)\n",
    "plot_trajectory(Z, tpe_clf, \"TPE\")\n",
    "\n",
    "plt.subplot(2,2,3)\n",
    "plot_trajectory(Z, smac_clf, \"SMAC\")\n",
    "\n",
    "plt.subplot(2,2,4)\n",
    "plot_trajectory(Z, gpei_clf, \"GPEI\")"
   ]
  },
  {
   "cell_type": "code",
   "execution_count": 6,
   "metadata": {},
   "outputs": [
    {
     "data": {
      "image/png": "[encoded data removed]",
      "text/plain": [
       "<Figure size 432x288 with 1 Axes>"
      ]
     },
     "metadata": {
      "needs_background": "light"
     },
     "output_type": "display_data"
    }
   ],
   "source": [
    "plt.plot(gpei_clf.logs[\"score\"].cummax()) \n",
    "plt.plot(smac_clf.logs[\"score\"].cummax()) \n",
    "plt.plot(tpe_clf.logs[\"score\"].cummax())\n",
    "plt.plot(sequd_clf.logs[\"score\"].cummax()) \n",
    "plt.legend(['GPEI', 'SMAC', 'TPE', 'SeqUD'])\n",
    "plt.ylim(0.95,0.99)\n",
    "plt.show()"
   ]
  },
  {
   "cell_type": "markdown",
   "metadata": {},
   "source": [
    "# Example 2: Xgboost for Regression"
   ]
  },
  {
   "cell_type": "code",
   "execution_count": 11,
   "metadata": {
    "scrolled": true
   },
   "outputs": [],
   "source": [
    "dt = datasets.load_diabetes()\n",
    "sx = MinMaxScaler()\n",
    "sy = MinMaxScaler()\n",
    "x = sx.fit_transform(dt.data)\n",
    "y = sy.fit_transform(dt.target.reshape([-1,1]))\n",
    "\n",
    "ParaSpace = {'booster':          {'Type': 'categorical', 'Mapping': ['gbtree', 'gblinear']},\n",
    "             'max_depth':        {'Type': 'integer',     'Mapping': np.linspace(2,10,10)}, \n",
    "             'n_estimators':     {'Type': 'integer',     'Mapping': np.linspace(100,500,401)},\n",
    "             'colsample_bytree': {'Type': 'continuous',  'Range': [0.5, 1],  'Wrapper': lambda x:x},\n",
    "             'learning_rate':    {'Type': 'continuous',  'Range': [-5, 0], 'Wrapper': lambda x: 10**x},\n",
    "             'gamma':            {'Type': 'continuous',  'Range': [-5, 0], 'Wrapper': lambda x: 10**x},\n",
    "             'reg_lambda':       {'Type': 'continuous',  'Range': [-5, 0], 'Wrapper': lambda x: 10**x},\n",
    "             'reg_alpha':        {'Type': 'continuous',  'Range': [-5, 0], 'Wrapper': lambda x: 10**x}}\n",
    "\n",
    "estimator = xgb.XGBRegressor()\n",
    "cv = KFold(n_splits=5, random_state=0, shuffle=True)"
   ]
  },
  {
   "cell_type": "code",
   "execution_count": 12,
   "metadata": {},
   "outputs": [
    {
     "name": "stdout",
     "output_type": "stream",
     "text": [
      "Stage 1 completed (20/100) with best score: 0.48824.\n",
      "Stage 2 completed (38/100) with best score: 0.48950.\n",
      "Stage 3 completed (56/100) with best score: 0.48950.\n",
      "Stage 4 completed (74/100) with best score: 0.48950.\n",
      "Stage 5 completed (92/100) with best score: 0.48951.\n",
      "Maximum number of runs reached, stop!\n",
      "SeqUD completed in 47.21 seconds.\n",
      "The best score is: 0.48951.\n",
      "The best configurations are:\n",
      "booster             : gblinear\n",
      "max_depth           : 4\n",
      "n_estimators        : 286\n",
      "colsample_bytree    : 0.825\n",
      "learning_rate       : 0.89769\n",
      "gamma               : 0.23714\n",
      "reg_lambda          : 0.00078\n",
      "reg_alpha           : 8e-05\n"
     ]
    },
    {
     "data": {
      "application/vnd.jupyter.widget-view+json": {
       "model_id": "a473fb99155243929b6ad8f5841f1c5f",
       "version_major": 2,
       "version_minor": 0
      },
      "text/plain": [
       "HBox(children=(IntProgress(value=0), HTML(value='')))"
      ]
     },
     "metadata": {},
     "output_type": "display_data"
    },
    {
     "name": "stdout",
     "output_type": "stream",
     "text": [
      "TPE completed in 57.29 seconds.\n",
      "The best score is: 0.48982.\n",
      "The best configurations are:\n",
      "booster             : gblinear\n",
      "max_depth           : 7\n",
      "n_estimators        : 416\n",
      "colsample_bytree    : 0.53886\n",
      "learning_rate       : 0.98501\n",
      "gamma               : 0.00366\n",
      "reg_lambda          : 2e-05\n",
      "reg_alpha           : 0.00076\n",
      "\n"
     ]
    },
    {
     "data": {
      "application/vnd.jupyter.widget-view+json": {
       "model_id": "279986685fc14dd1b64f43b97ca079f9",
       "version_major": 2,
       "version_minor": 0
      },
      "text/plain": [
       "HBox(children=(IntProgress(value=0), HTML(value='')))"
      ]
     },
     "metadata": {},
     "output_type": "display_data"
    },
    {
     "name": "stdout",
     "output_type": "stream",
     "text": [
      "SMAC completed in 273.46 seconds.\n",
      "The best score is: 0.48730.\n",
      "The best configurations are:\n",
      "booster             : gblinear\n",
      "max_depth           : 5\n",
      "n_estimators        : 268\n",
      "colsample_bytree    : 0.82708\n",
      "learning_rate       : 0.63598\n",
      "gamma               : 0.11219\n",
      "reg_lambda          : 0.00015\n",
      "reg_alpha           : 3e-05\n",
      "\n"
     ]
    },
    {
     "data": {
      "application/vnd.jupyter.widget-view+json": {
       "model_id": "2dc9b6ce94d8468a94e30eadcb685e6c",
       "version_major": 2,
       "version_minor": 0
      },
      "text/plain": [
       "HBox(children=(IntProgress(value=0), HTML(value='')))"
      ]
     },
     "metadata": {},
     "output_type": "display_data"
    },
    {
     "name": "stdout",
     "output_type": "stream",
     "text": [
      "GPEI completed in 532.65 seconds.\n",
      "The best score is: 0.46570.\n",
      "The best configurations are:\n",
      "booster             : gbtree\n",
      "max_depth           : 2\n",
      "n_estimators        : 500\n",
      "colsample_bytree    : 0.87592\n",
      "learning_rate       : 0.11086\n",
      "gamma               : 0.01343\n",
      "reg_lambda          : 1e-05\n",
      "reg_alpha           : 0.89989\n",
      "\n"
     ]
    }
   ],
   "source": [
    "sequd_clf = SeqUD(ParaSpace, level_number = 20, max_runs = 100, max_search_iter = 100, n_jobs= 10, \n",
    "                 estimator = estimator, cv = cv, refit = None, rand_seed = 0, verbose = True)\n",
    "sequd_clf.fit(x, y)\n",
    "\n",
    "tpe_clf = TPEOPT(ParaSpace, max_runs = 100, estimator = estimator, cv = cv, refit = True, rand_seed = 0, verbose = True)\n",
    "tpe_clf.fit(x, y)\n",
    "\n",
    "smac_clf = SMACOPT(ParaSpace, max_runs = 100, estimator = estimator, cv = cv, refit = True, rand_seed = 0, verbose = True)\n",
    "smac_clf.fit(x, y)\n",
    "\n",
    "gpei_clf = GPEIOPT(ParaSpace, max_runs = 100, estimator = estimator, cv = cv, refit = True, rand_seed = 0, verbose = True)\n",
    "gpei_clf.fit(x, y)"
   ]
  },
  {
   "cell_type": "code",
   "execution_count": 10,
   "metadata": {},
   "outputs": [
    {
     "data": {
      "image/png": "[encoded data removed]",
      "text/plain": [
       "<Figure size 432x288 with 1 Axes>"
      ]
     },
     "metadata": {
      "needs_background": "light"
     },
     "output_type": "display_data"
    }
   ],
   "source": [
    "plt.plot(gpei_clf.logs[\"score\"].cummax()) \n",
    "plt.plot(smac_clf.logs[\"score\"].cummax()) \n",
    "plt.plot(tpe_clf.logs[\"score\"].cummax())\n",
    "plt.plot(sequd_clf.logs[\"score\"].cummax()) \n",
    "plt.legend(['GPEI', 'SMAC', 'TPE', 'SeqUD'])\n",
    "plt.ylim(0.45,0.5)\n",
    "plt.show()"
   ]
  },
  {
   "cell_type": "markdown",
   "metadata": {},
   "source": [
    " # Example 3: Kmeans for Unsupervised Clustering  "
   ]
  },
  {
   "cell_type": "code",
   "execution_count": 10,
   "metadata": {
    "scrolled": true
   },
   "outputs": [],
   "source": [
    "sx = MinMaxScaler()\n",
    "dt = datasets.load_iris()\n",
    "x = sx.fit_transform(dt.data)\n",
    "y = dt.target.reshape([-1,1])\n",
    "\n",
    "ParaSpace = {'n_clusters':  {'Type': 'integer',    'Mapping': np.linspace(2,9,8)}, \n",
    "             'tol':         {'Type': 'continuous', 'Range': [-6, -3], 'Wrapper': lambda x: 10**x}}\n",
    "estimator = KMeans()\n",
    "cv = KFold(n_splits=5, random_state=0, shuffle=True)"
   ]
  },
  {
   "cell_type": "code",
   "execution_count": 11,
   "metadata": {},
   "outputs": [
    {
     "name": "stdout",
     "output_type": "stream",
     "text": [
      "Stage 1 completed (20/100) with best score: -0.71826.\n",
      "Stage 2 completed (34/100) with best score: -0.67775.\n",
      "Stage 3 completed (50/100) with best score: -0.67775.\n",
      "Stage 4 completed (65/100) with best score: -0.67775.\n",
      "Stage 5 completed (80/100) with best score: -0.67775.\n",
      "Stage 6 completed (95/100) with best score: -0.67775.\n",
      "Maximum number of runs reached, stop!\n",
      "SeqUD completed in 10.49 seconds.\n",
      "The best score is: -0.67775.\n",
      "The best configurations are:\n",
      "n_clusters          : 9\n",
      "tol                 : 0.0\n"
     ]
    },
    {
     "data": {
      "application/vnd.jupyter.widget-view+json": {
       "model_id": "dbc12683a9d247028f65e5268aa31ec8",
       "version_major": 2,
       "version_minor": 0
      },
      "text/plain": [
       "HBox(children=(IntProgress(value=0), HTML(value='')))"
      ]
     },
     "metadata": {},
     "output_type": "display_data"
    },
    {
     "name": "stdout",
     "output_type": "stream",
     "text": [
      "TPE completed in 22.25 seconds.\n",
      "The best score is: -0.70273.\n",
      "The best configurations are:\n",
      "n_clusters          : 9\n",
      "tol                 : 1e-05\n",
      "\n"
     ]
    },
    {
     "data": {
      "application/vnd.jupyter.widget-view+json": {
       "model_id": "ba896a863abf4d73a905b910cadea5df",
       "version_major": 2,
       "version_minor": 0
      },
      "text/plain": [
       "HBox(children=(IntProgress(value=0), HTML(value='')))"
      ]
     },
     "metadata": {},
     "output_type": "display_data"
    },
    {
     "name": "stdout",
     "output_type": "stream",
     "text": [
      "SMAC completed in 69.34 seconds.\n",
      "The best score is: -0.68854.\n",
      "The best configurations are:\n",
      "n_clusters          : 9\n",
      "tol                 : 6e-05\n",
      "\n"
     ]
    },
    {
     "data": {
      "application/vnd.jupyter.widget-view+json": {
       "model_id": "902d2c7b2be9404d9272ca82ba764962",
       "version_major": 2,
       "version_minor": 0
      },
      "text/plain": [
       "HBox(children=(IntProgress(value=0), HTML(value='')))"
      ]
     },
     "metadata": {},
     "output_type": "display_data"
    },
    {
     "name": "stdout",
     "output_type": "stream",
     "text": [
      "GPEI completed in 427.32 seconds.\n",
      "The best score is: -0.68084.\n",
      "The best configurations are:\n",
      "n_clusters          : 9\n",
      "tol                 : 1e-05\n",
      "\n"
     ]
    }
   ],
   "source": [
    "sequd_clf = SeqUD(ParaSpace, level_number = 20, max_runs = 100, max_search_iter = 100, n_jobs= 10, \n",
    "                 estimator = estimator, cv = cv, refit = None, verbose = True)\n",
    "sequd_clf.fit(x)\n",
    "\n",
    "tpe_clf = TPEOPT(ParaSpace, max_runs = 100, estimator = estimator, cv = cv, refit = True, verbose = True)\n",
    "tpe_clf.fit(x)\n",
    "\n",
    "smac_clf = SMACOPT(ParaSpace, max_runs = 100, estimator = estimator, cv = cv, refit = True, verbose = True)\n",
    "smac_clf.fit(x)\n",
    "\n",
    "gpei_clf = GPEIOPT(ParaSpace, max_runs = 100, estimator = estimator, cv = cv, refit = True, verbose = True)\n",
    "gpei_clf.fit(x)"
   ]
  },
  {
   "cell_type": "code",
   "execution_count": 12,
   "metadata": {},
   "outputs": [
    {
     "data": {
      "image/png": "[encoded data removed]",
      "text/plain": [
       "<Figure size 432x288 with 1 Axes>"
      ]
     },
     "metadata": {
      "needs_background": "light"
     },
     "output_type": "display_data"
    }
   ],
   "source": [
    "plt.plot(gpei_clf.logs[\"score\"].cummax()) \n",
    "plt.plot(smac_clf.logs[\"score\"].cummax()) \n",
    "plt.plot(tpe_clf.logs[\"score\"].cummax())\n",
    "plt.plot(sequd_clf.logs[\"score\"].cummax()) \n",
    "plt.legend(['GPEI', 'SMAC', 'TPE', 'SeqUD'])\n",
    "plt.ylim(-0.8,-0.65)\n",
    "plt.show()"
   ]
  }
 ],
 "metadata": {
  "kernelspec": {
   "display_name": "base",
   "language": "python",
   "name": "base"
  },
  "language_info": {
   "codemirror_mode": {
    "name": "ipython",
    "version": 3
   },
   "file_extension": ".py",
   "mimetype": "text/x-python",
   "name": "python",
   "nbconvert_exporter": "python",
   "pygments_lexer": "ipython3",
   "version": "3.7.3"
  }
 },
 "nbformat": 4,
 "nbformat_minor": 2
}
