{
 "cells": [
  {
   "cell_type": "markdown",
   "metadata": {},
   "source": [
    "# Function optimization"
   ]
  },
  {
   "cell_type": "code",
   "execution_count": 1,
   "metadata": {},
   "outputs": [],
   "source": [
    "%matplotlib inline\n",
    "\n",
    "import numpy as np \n",
    "from matplotlib import pylab as plt\n",
    "from seqmml import SeqUD, SMACOPT, GPEIOPT, TPEOPT\n",
    "\n",
    "def plot_trajectory(xlim, ylim, func, clf, title):\n",
    "    grid_num = 25\n",
    "    xlist = np.linspace(xlim[0], xlim[1], grid_num)\n",
    "    ylist = np.linspace(ylim[0], ylim[1], grid_num)\n",
    "    X, Y = np.meshgrid(xlist, ylist)\n",
    "    Z = np.zeros((grid_num,grid_num))\n",
    "    for i, x1 in enumerate(xlist):\n",
    "        for j, x2 in enumerate(ylist):\n",
    "            Z[j,i] = func({\"x1\": x1, \"x2\": x2})\n",
    "\n",
    "    cp = plt.contourf(X, Y, Z)\n",
    "    plt.scatter(clf.logs.loc[:,['x1']], \n",
    "                clf.logs.loc[:,['x2']], color = \"red\")\n",
    "    plt.xlim(xlim[0],xlim[1])\n",
    "    plt.ylim(ylim[0],ylim[1])\n",
    "    plt.colorbar(cp)\n",
    "    plt.xlabel('x1')\n",
    "    plt.ylabel('x2')\n",
    "    plt.title(title)\n",
    "    \n",
    "rand_seed = 0\n",
    "max_runs = 100"
   ]
  },
  {
   "cell_type": "markdown",
   "metadata": {},
   "source": [
    "### 1  Cliff-Shaped function"
   ]
  },
  {
   "cell_type": "markdown",
   "metadata": {},
   "source": [
    " $$\n",
    "f_{1}\\left(x_{1}, x_{2} \\right) = \\left(x_{1}, x_{2} \\right) = \\exp \\left\\{-\\frac{1}{2} \\frac {x_{1}^{2}}{100} \\right\\} - \\frac{1}{2} \\left(x_{2} + 0.03 x_{1}^{2} - 3 \\right)^{2}, \\\\\n",
    " x_{1} \\in [-20,20 ] , x_{2} \\in [-10,5].\n",
    "$$"
   ]
  },
  {
   "cell_type": "code",
   "execution_count": 2,
   "metadata": {},
   "outputs": [],
   "source": [
    "def cliff(parameters):\n",
    "    x1 = parameters['x1']\n",
    "    x2 = parameters['x2']\n",
    "    term1 = -0.5*x1**2/100\n",
    "    term2 = -0.5*(x2+0.03*x1**2-3)**2\n",
    "    y = np.exp(term1 + term2)\n",
    "    return  y\n",
    "\n",
    "ParaSpace = {'x1': {'Type': 'continuous', 'Range': [-20,20], 'Wrapper': lambda x: x}, \n",
    "             'x2': {'Type': 'continuous', 'Range': [-10,5], 'Wrapper': lambda x: x}}"
   ]
  },
  {
   "cell_type": "code",
   "execution_count": null,
   "metadata": {
    "scrolled": false
   },
   "outputs": [
    {
     "name": "stdout",
     "output_type": "stream",
     "text": [
      "Stage 1 completed (20/100) with best score: 0.87563.\n",
      "Stage 2 completed (34/100) with best score: 0.99222.\n",
      "Stage 3 completed (48/100) with best score: 0.99222.\n",
      "Stage 4 completed (63/100) with best score: 0.99222.\n",
      "Stage 5 completed (78/100) with best score: 0.99981.\n",
      "Stage 6 completed (94/100) with best score: 0.99981.\n",
      "Maximum number of runs reached, stop!\n",
      "Search completed in 4.87 seconds.\n",
      "The best score is: 0.99981.\n",
      "The best configurations are:\n",
      "x1                  : 0.125\n",
      "x2                  : 2.98438\n"
     ]
    },
    {
     "data": {
      "application/vnd.jupyter.widget-view+json": {
       "model_id": "aa5164483b674728aab5d66575510568",
       "version_major": 2,
       "version_minor": 0
      },
      "text/plain": [
       "HBox(children=(IntProgress(value=0), HTML(value='')))"
      ]
     },
     "metadata": {},
     "output_type": "display_data"
    },
    {
     "name": "stdout",
     "output_type": "stream",
     "text": [
      "Search completed in 2.79 seconds.\n",
      "The best score is: 0.97776.\n",
      "The best configurations are:\n",
      "x1                  : 1.52357\n",
      "x2                  : 2.78281\n",
      "\n"
     ]
    },
    {
     "data": {
      "application/vnd.jupyter.widget-view+json": {
       "model_id": "0e705e00bfaf45569c359e77560f93a0",
       "version_major": 2,
       "version_minor": 0
      },
      "text/plain": [
       "HBox(children=(IntProgress(value=0), HTML(value='')))"
      ]
     },
     "metadata": {},
     "output_type": "display_data"
    },
    {
     "name": "stdout",
     "output_type": "stream",
     "text": [
      "Search completed in 54.79 seconds.\n",
      "The best score is: 0.99792.\n",
      "The best configurations are:\n",
      "x1                  : 0.51643\n",
      "x2                  : 3.03082\n",
      "\n"
     ]
    },
    {
     "data": {
      "application/vnd.jupyter.widget-view+json": {
       "model_id": "4f212523594c460aabc889a1cba73a96",
       "version_major": 2,
       "version_minor": 0
      },
      "text/plain": [
       "HBox(children=(IntProgress(value=0), HTML(value='')))"
      ]
     },
     "metadata": {},
     "output_type": "display_data"
    }
   ],
   "source": [
    "sequd_clf = SeqUD(ParaSpace, max_runs = max_runs, rand_seed = rand_seed, verbose = True)\n",
    "sequd_clf.fmin(cliff)\n",
    "\n",
    "tpe_clf = TPEOPT(ParaSpace, max_runs = max_runs, rand_seed = rand_seed, verbose = True)\n",
    "tpe_clf.fmin(cliff)\n",
    "\n",
    "smac_clf = SMACOPT(ParaSpace, max_runs = max_runs, rand_seed = rand_seed, verbose = True)\n",
    "smac_clf.fmin(cliff)\n",
    "\n",
    "gpei_clf = GPEIOPT(ParaSpace, max_runs = max_runs, rand_seed = rand_seed, verbose = True)\n",
    "gpei_clf.fmin(cliff)"
   ]
  },
  {
   "cell_type": "code",
   "execution_count": null,
   "metadata": {},
   "outputs": [],
   "source": [
    "plt.figure(figsize=(16,12))\n",
    "plt.subplot(2,2,1)\n",
    "plot_trajectory([-20,20], [-10,5], cliff, sequd_clf, \"SeqUD\")\n",
    "\n",
    "plt.subplot(2,2,2)\n",
    "plot_trajectory([-20,20], [-10,5], cliff, tpe_clf, \"TPE\")\n",
    "\n",
    "plt.subplot(2,2,3)\n",
    "plot_trajectory([-20,20], [-10,5], cliff, smac_clf, \"SMAC\")\n",
    "\n",
    "plt.subplot(2,2,4)\n",
    "plot_trajectory([-20,20], [-10,5], cliff, gpei_clf, \"GPEI\")"
   ]
  },
  {
   "cell_type": "markdown",
   "metadata": {},
   "source": [
    "### 2. Octopus-Shaped function"
   ]
  },
  {
   "cell_type": "markdown",
   "metadata": {},
   "source": [
    "$$\n",
    "f_{2}(x_{1}, x_{2})  = 2cos(10x)\\sin(10y)+\\sin(10xy), \\quad x_{1}, x_{2} \\in [0, 1].\n",
    "$$"
   ]
  },
  {
   "cell_type": "code",
   "execution_count": null,
   "metadata": {},
   "outputs": [],
   "source": [
    "def octopus(parameters):\n",
    "    x1 = parameters['x1']\n",
    "    x2 = parameters['x2']\n",
    "    y = 2*np.cos(10*x1)*np.sin(10*x2)+np.sin(10*x1*x2)\n",
    "    return  y\n",
    "\n",
    "Level_Number = 20\n",
    "ParaSpace = {'x1': {'Type': 'continuous', 'Range': [0,1], 'Wrapper': lambda x: x}, \n",
    "             'x2': {'Type': 'continuous', 'Range': [0,1], 'Wrapper': lambda x: x}}"
   ]
  },
  {
   "cell_type": "code",
   "execution_count": null,
   "metadata": {},
   "outputs": [],
   "source": [
    "sequd_clf = SeqUD(ParaSpace, max_runs = max_runs, rand_seed = rand_seed, verbose = True)\n",
    "sequd_clf.fmin(octopus)\n",
    "\n",
    "tpe_clf = TPEOPT(ParaSpace, max_runs = max_runs, rand_seed = rand_seed, verbose = True)\n",
    "tpe_clf.fmin(octopus)\n",
    "\n",
    "smac_clf = SMACOPT(ParaSpace, max_runs = max_runs, rand_seed = rand_seed, verbose = True)\n",
    "smac_clf.fmin(octopus)\n",
    "\n",
    "gpei_clf = GPEIOPT(ParaSpace, max_runs = max_runs, rand_seed = rand_seed, verbose = True)\n",
    "gpei_clf.fmin(octopus)"
   ]
  },
  {
   "cell_type": "code",
   "execution_count": null,
   "metadata": {},
   "outputs": [],
   "source": [
    "plt.figure(figsize=(16,12))\n",
    "plt.subplot(2,2,1)\n",
    "plot_trajectory([0,1], [0,1], octopus, sequd_clf, \"SeqUD\")\n",
    "\n",
    "plt.subplot(2,2,2)\n",
    "plot_trajectory([0,1], [0,1], octopus, tpe_clf, \"TPE\")\n",
    "\n",
    "plt.subplot(2,2,3)\n",
    "plot_trajectory([0,1], [0,1], octopus, smac_clf, \"SMAC\")\n",
    "\n",
    "plt.subplot(2,2,4)\n",
    "plot_trajectory([0,1], [0,1], octopus, gpei_clf, \"GPEI\")"
   ]
  },
  {
   "cell_type": "code",
   "execution_count": null,
   "metadata": {},
   "outputs": [],
   "source": []
  }
 ],
 "metadata": {
  "kernelspec": {
   "display_name": "base",
   "language": "python",
   "name": "base"
  },
  "language_info": {
   "codemirror_mode": {
    "name": "ipython",
    "version": 3
   },
   "file_extension": ".py",
   "mimetype": "text/x-python",
   "name": "python",
   "nbconvert_exporter": "python",
   "pygments_lexer": "ipython3",
   "version": "3.7.3"
  }
 },
 "nbformat": 4,
 "nbformat_minor": 2
}
