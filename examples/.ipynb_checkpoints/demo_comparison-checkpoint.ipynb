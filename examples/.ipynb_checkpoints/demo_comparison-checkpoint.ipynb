{
 "cells": [
  {
   "cell_type": "code",
   "execution_count": 45,
   "metadata": {
    "scrolled": true
   },
   "outputs": [],
   "source": [
    "%matplotlib inline\n",
    "\n",
    "import numpy as np\n",
    "import xgboost as xgb\n",
    "from sklearn import datasets\n",
    "from sklearn.metrics import auc \n",
    "from matplotlib import pylab as plt \n",
    "from sklearn.model_selection import KFold \n",
    "from sklearn.preprocessing import MinMaxScaler\n",
    "from sklearn.metrics import make_scorer, mean_squared_error\n",
    "from seqmml import SeqUD, SeqRand, GPEIOPT, SMACOPT, TPEOPT,\\\n",
    "                    RandSearch, LHSSearch, SobolSearch, UDSearch\n",
    "\n",
    "dt = datasets.load_wine()\n",
    "sx = MinMaxScaler()\n",
    "x = sx.fit_transform(dt.data)\n",
    "y = dt.target.reshape([-1,1])\n",
    "\n",
    "ParaSpace = {'booster':          {'Type': 'categorical', 'Mapping': ['gbtree', 'gblinear']},\n",
    "             'max_depth':        {'Type': 'integer',     'Mapping': np.linspace(2,10,9)}, \n",
    "             'n_estimators':     {'Type': 'integer',     'Mapping': np.linspace(100,300,201)},\n",
    "             'min_child_weight': {'Type': 'integer',     'Mapping': np.linspace(1,10,10)},\n",
    "             'subsample':        {'Type': 'continuous',  'Range': [0, 1],  'Wrapper': lambda x:x},\n",
    "             'colsample_bytree': {'Type': 'continuous',  'Range': [0, 1],  'Wrapper': lambda x:x},\n",
    "             'learning_rate':    {'Type': 'continuous',  'Range': [-5, 0], 'Wrapper': lambda x: 10**x},\n",
    "             'gamma':            {'Type': 'continuous',  'Range': [-5, 0], 'Wrapper': lambda x: 10**x},\n",
    "             'reg_lambda':       {'Type': 'continuous',  'Range': [-5, 0], 'Wrapper': lambda x: 10**x},\n",
    "             'reg_alpha':         {'Type': 'continuous',  'Range': [-5, 0], 'Wrapper': lambda x: 10**x}}\n",
    "\n",
    "estimator = xgb.XGBClassifier()\n",
    "cv = KFold(n_splits=3, random_state=0, shuffle=True)\n",
    "\n",
    "model_zoo = { \"Rand\": RandSearch, \n",
    "              \"LHS\": LHSSearch, \n",
    "              \"Sobol\": SobolSearch, \n",
    "              \"UD\": UDSearch, \n",
    "              \"SeqUD\": SeqUD, \n",
    "              \"SeqRand\": SeqRand,\n",
    "              \"SMAC\": SMACOPT, \n",
    "              \"TPE\": TPEOPT, \n",
    "              \"GPEI\": GPEIOPT}"
   ]
  },
  {
   "cell_type": "code",
   "execution_count": 55,
   "metadata": {},
   "outputs": [
    {
     "data": {
      "application/vnd.jupyter.widget-view+json": {
       "model_id": "8277cd5134b040dc92637f661a2d0488",
       "version_major": 2,
       "version_minor": 0
      },
      "text/plain": [
       "HBox(children=(IntProgress(value=0), HTML(value='')))"
      ]
     },
     "metadata": {},
     "output_type": "display_data"
    },
    {
     "name": "stdout",
     "output_type": "stream",
     "text": [
      "Search completed (100/100) with best score: 0.98324.\n",
      "Search completed in 8.56 seconds.\n",
      "The best score is: 0.98324.\n",
      "The best configurations are:\n",
      "booster             : gbtree\n",
      "max_depth           : 2\n",
      "n_estimators        : 231\n",
      "min_child_weight    : 1\n",
      "subsample           : 0.77058\n",
      "colsample_bytree    : 0.01561\n",
      "learning_rate       : 3e-05\n",
      "gamma               : 0.00192\n",
      "reg_lambda          : 6e-05\n",
      "reg_alpha           : 0.00061\n",
      "Random Search: the best score = 0.98324, time cost = 8.56.\n"
     ]
    }
   ],
   "source": [
    "rand_clf = RandSearch(ParaSpace, max_runs = 100, n_jobs = 10, estimator = estimator, cv = cv, \n",
    "            scoring = \"accuracy\", refit = True, rand_seed = 0, verbose = True)\n",
    "rand_clf.fit(x, y)"
   ]
  },
  {
   "cell_type": "code",
   "execution_count": 56,
   "metadata": {},
   "outputs": [
    {
     "data": {
      "application/vnd.jupyter.widget-view+json": {
       "model_id": "0abb1b068a5c4e93a2f0d7762095575e",
       "version_major": 2,
       "version_minor": 0
      },
      "text/plain": [
       "HBox(children=(IntProgress(value=0), HTML(value='')))"
      ]
     },
     "metadata": {},
     "output_type": "display_data"
    },
    {
     "name": "stdout",
     "output_type": "stream",
     "text": [
      "Search completed (100/100) with best score: 0.98315.\n",
      "Search completed in 10.05 seconds.\n",
      "The best score is: 0.98315.\n",
      "The best configurations are:\n",
      "booster             : gbtree\n",
      "max_depth           : 2\n",
      "n_estimators        : 165\n",
      "min_child_weight    : 1\n",
      "subsample           : 0.315\n",
      "colsample_bytree    : 0.095\n",
      "learning_rate       : 0.18836\n",
      "gamma               : 0.00944\n",
      "reg_lambda          : 0.00033\n",
      "reg_alpha           : 1e-05\n",
      "LHS Search: the best score = 0.98879, time cost = 5.19.\n"
     ]
    }
   ],
   "source": [
    "lhs_clf = LHSSearch(ParaSpace, max_runs = 100, n_jobs = 10, estimator = estimator, cv = cv, \n",
    "            scoring = \"accuracy\", refit = True, rand_seed = 0, verbose = True)\n",
    "lhs_clf.fit(x, y)"
   ]
  },
  {
   "cell_type": "code",
   "execution_count": 57,
   "metadata": {},
   "outputs": [
    {
     "data": {
      "application/vnd.jupyter.widget-view+json": {
       "model_id": "17cbc4f554464e0dba169e245c814135",
       "version_major": 2,
       "version_minor": 0
      },
      "text/plain": [
       "HBox(children=(IntProgress(value=0), HTML(value='')))"
      ]
     },
     "metadata": {},
     "output_type": "display_data"
    },
    {
     "name": "stdout",
     "output_type": "stream",
     "text": [
      "Search completed (100/100) with best score: 0.98305.\n",
      "Search completed in 9.93 seconds.\n",
      "The best score is: 0.98305.\n",
      "The best configurations are:\n",
      "booster             : gbtree\n",
      "max_depth           : 6\n",
      "n_estimators        : 104\n",
      "min_child_weight    : 2\n",
      "subsample           : 0.89844\n",
      "colsample_bytree    : 0.30469\n",
      "learning_rate       : 0.00028\n",
      "gamma               : 0.00048\n",
      "reg_lambda          : 0.00048\n",
      "reg_alpha           : 6e-05\n",
      "Sobol Search: the best score = 0.98879, time cost = 5.19.\n"
     ]
    }
   ],
   "source": [
    "sobol_clf = SobolSearch(ParaSpace, max_runs = 100, n_jobs = 10, estimator = estimator, cv = cv, \n",
    "            scoring = \"accuracy\", refit = True, rand_seed = 0, verbose = True)\n",
    "sobol_clf.fit(x, y)"
   ]
  },
  {
   "cell_type": "code",
   "execution_count": 67,
   "metadata": {
    "scrolled": true
   },
   "outputs": [
    {
     "name": "stdout",
     "output_type": "stream",
     "text": [
      "No design found.\n"
     ]
    },
    {
     "data": {
      "application/vnd.jupyter.widget-view+json": {
       "model_id": "714ff0c69328446289fafc14ffd4f288",
       "version_major": 2,
       "version_minor": 0
      },
      "text/plain": [
       "HBox(children=(IntProgress(value=0), HTML(value='')))"
      ]
     },
     "metadata": {},
     "output_type": "display_data"
    },
    {
     "name": "stdout",
     "output_type": "stream",
     "text": [
      "Search completed (100/100) with best score: 0.98305.\n",
      "Search completed in 523.97 seconds.\n",
      "The best score is: 0.98305.\n",
      "The best configurations are:\n",
      "booster             : gbtree\n",
      "max_depth           : 6\n",
      "n_estimators        : 225\n",
      "min_child_weight    : 1\n",
      "subsample           : 0.525\n",
      "colsample_bytree    : 0.325\n",
      "learning_rate       : 0.00042\n",
      "gamma               : 0.23714\n",
      "reg_lambda          : 0.23714\n",
      "reg_alpha           : 4e-05\n"
     ]
    }
   ],
   "source": [
    "ud_clf = UDSearch(ParaSpace, max_runs = 100, level_number = 20, n_jobs = 10, estimator = estimator, cv = cv, \n",
    "            scoring = \"accuracy\", refit = True, rand_seed = 0, verbose = True)\n",
    "ud_clf.fit(x, y)"
   ]
  },
  {
   "cell_type": "code",
   "execution_count": 60,
   "metadata": {},
   "outputs": [
    {
     "name": "stdout",
     "output_type": "stream",
     "text": [
      "Stage 1 completed (20/100) with best score: 0.98315.\n",
      "Stage 2 completed (38/100) with best score: 0.98870.\n",
      "Stage 3 completed (56/100) with best score: 0.98870.\n",
      "Stage 4 completed (74/100) with best score: 0.98870.\n",
      "Stage 5 completed (92/100) with best score: 0.98870.\n",
      "Maximum number of runs reached, stop!\n",
      "Search completed in 85.85 seconds.\n",
      "The best score is: 0.98870.\n",
      "The best configurations are:\n",
      "booster             : gbtree\n",
      "max_depth           : 8\n",
      "n_estimators        : 175\n",
      "min_child_weight    : 1\n",
      "subsample           : 0.75\n",
      "colsample_bytree    : 0.375\n",
      "learning_rate       : 0.00018\n",
      "gamma               : 0.00422\n",
      "reg_lambda          : 0.00316\n",
      "reg_alpha           : 0.01\n"
     ]
    }
   ],
   "source": [
    "sequd_clf = SeqUD(ParaSpace, max_runs = 100, level_number = 20, n_jobs = 10, estimator = estimator, cv = cv, \n",
    "            scoring = \"accuracy\", refit = True, rand_seed = 0, verbose = True)\n",
    "sequd_clf.fit(x, y)"
   ]
  },
  {
   "cell_type": "code",
   "execution_count": 62,
   "metadata": {},
   "outputs": [
    {
     "name": "stdout",
     "output_type": "stream",
     "text": [
      "Stage 1 completed (20/100) with best score: 0.97759.\n",
      "Stage 2 completed (40/100) with best score: 0.97759.\n",
      "Stage 3 completed (60/100) with best score: 0.97759.\n",
      "Stage 4 completed (80/100) with best score: 0.97759.\n",
      "Stage 5 completed (100/100) with best score: 0.98315.\n",
      "Maximum number of runs reached, stop!\n",
      "Search completed in 44.31 seconds.\n",
      "The best score is: 0.98315.\n",
      "The best configurations are:\n",
      "booster             : gbtree\n",
      "max_depth           : 8\n",
      "n_estimators        : 227\n",
      "min_child_weight    : 1\n",
      "subsample           : 0.71217\n",
      "colsample_bytree    : 0.91447\n",
      "learning_rate       : 0.00116\n",
      "gamma               : 0.03127\n",
      "reg_lambda          : 0.0059\n",
      "reg_alpha           : 0.00059\n"
     ]
    }
   ],
   "source": [
    "seqrand_clf = SeqRand(ParaSpace, max_runs = 100, estimator = estimator, cv = cv, \n",
    "            scoring = \"accuracy\", refit = True, rand_seed = 0, verbose = True)\n",
    "seqrand_clf.fit(x, y)"
   ]
  },
  {
   "cell_type": "code",
   "execution_count": 63,
   "metadata": {},
   "outputs": [
    {
     "data": {
      "application/vnd.jupyter.widget-view+json": {
       "model_id": "0f08c03b11e34865947e814105776c90",
       "version_major": 2,
       "version_minor": 0
      },
      "text/plain": [
       "HBox(children=(IntProgress(value=0), HTML(value='')))"
      ]
     },
     "metadata": {},
     "output_type": "display_data"
    },
    {
     "name": "stdout",
     "output_type": "stream",
     "text": [
      "Search completed in 417.13 seconds.\n",
      "The best score is: 0.98870.\n",
      "The best configurations are:\n",
      "booster             : gbtree\n",
      "max_depth           : 2\n",
      "n_estimators        : 100\n",
      "min_child_weight    : 1\n",
      "subsample           : 0.8437\n",
      "colsample_bytree    : 0.23006\n",
      "learning_rate       : 0.00022\n",
      "gamma               : 0.00685\n",
      "reg_lambda          : 0.0015\n",
      "reg_alpha           : 4e-05\n"
     ]
    }
   ],
   "source": [
    "gpei_clf = GPEIOPT(ParaSpace, max_runs = 100, estimator = estimator, cv = cv, \n",
    "            scoring = \"accuracy\", refit = True, rand_seed = 0, verbose = True)\n",
    "gpei_clf.fit(x, y)"
   ]
  },
  {
   "cell_type": "code",
   "execution_count": 64,
   "metadata": {},
   "outputs": [
    {
     "data": {
      "application/vnd.jupyter.widget-view+json": {
       "model_id": "a1eee2149b98431d92e67f4b12b47c70",
       "version_major": 2,
       "version_minor": 0
      },
      "text/plain": [
       "HBox(children=(IntProgress(value=0), HTML(value='')))"
      ]
     },
     "metadata": {},
     "output_type": "display_data"
    },
    {
     "name": "stdout",
     "output_type": "stream",
     "text": [
      "Search completed in 208.67 seconds.\n",
      "The best score is: 0.98315.\n",
      "The best configurations are:\n",
      "booster             : gbtree\n",
      "max_depth           : 5\n",
      "n_estimators        : 139\n",
      "min_child_weight    : 1\n",
      "subsample           : 0.81445\n",
      "colsample_bytree    : 0.45361\n",
      "learning_rate       : 2e-05\n",
      "gamma               : 0.04625\n",
      "reg_lambda          : 0.00325\n",
      "reg_alpha           : 0.43487\n"
     ]
    }
   ],
   "source": [
    "smac_clf = SMACOPT(ParaSpace, max_runs = 100, estimator = estimator, cv = cv, \n",
    "            scoring = \"accuracy\", refit = True, rand_seed = 0, verbose = True)\n",
    "smac_clf.fit(x, y)"
   ]
  },
  {
   "cell_type": "code",
   "execution_count": 65,
   "metadata": {},
   "outputs": [
    {
     "data": {
      "application/vnd.jupyter.widget-view+json": {
       "model_id": "f8b32dee6e2346a1b2a352f03b0bbf03",
       "version_major": 2,
       "version_minor": 0
      },
      "text/plain": [
       "HBox(children=(IntProgress(value=0), HTML(value='')))"
      ]
     },
     "metadata": {},
     "output_type": "display_data"
    },
    {
     "name": "stdout",
     "output_type": "stream",
     "text": [
      "Search completed in 19.71 seconds.\n",
      "The best score is: 0.98315.\n",
      "The best configurations are:\n",
      "booster             : gbtree\n",
      "max_depth           : 9\n",
      "n_estimators        : 173\n",
      "min_child_weight    : 1\n",
      "subsample           : 0.91745\n",
      "colsample_bytree    : 0.72857\n",
      "learning_rate       : 2e-05\n",
      "gamma               : 0.00023\n",
      "reg_lambda          : 0.80419\n",
      "reg_alpha           : 0.00119\n"
     ]
    }
   ],
   "source": [
    "tpe_clf = TPEOPT(ParaSpace, max_runs = 100, estimator = estimator, cv = cv, \n",
    "            scoring = \"accuracy\", refit = True, rand_seed = 0, verbose = True)\n",
    "tpe_clf.fit(x, y)"
   ]
  },
  {
   "cell_type": "code",
   "execution_count": null,
   "metadata": {},
   "outputs": [],
   "source": [
    "plt.plot(rand_clf.logs[\"score\"].cummax()) \n",
    "plt.plot(lhs_clf.logs[\"score\"].cummax()) \n",
    "plt.plot(sobol_clf.logs[\"score\"].cummax()) \n",
    "plt.plot(ud_clf.logs[\"score\"].cummax()) \n",
    "plt.plot(sequd_clf.logs[\"score\"].cummax()) \n",
    "plt.plot(seqrand_clf.logs[\"score\"].cummax()) \n",
    "plt.plot(gpei_clf.logs[\"score\"].cummax()) \n",
    "plt.plot(smac_clf.logs[\"score\"].cummax()) \n",
    "plt.plot(tpe_clf.logs[\"score\"].cummax()) \n",
    "plt.legend(model_zoo.keys())"
   ]
  }
 ],
 "metadata": {
  "kernelspec": {
   "display_name": "Python 3",
   "language": "python",
   "name": "python3"
  },
  "language_info": {
   "codemirror_mode": {
    "name": "ipython",
    "version": 3
   },
   "file_extension": ".py",
   "mimetype": "text/x-python",
   "name": "python",
   "nbconvert_exporter": "python",
   "pygments_lexer": "ipython3",
   "version": "3.7.3"
  }
 },
 "nbformat": 4,
 "nbformat_minor": 2
}
